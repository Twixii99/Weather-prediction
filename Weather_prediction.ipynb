{
  "cells": [
    {
      "cell_type": "markdown",
      "metadata": {
        "id": "zg_QjpLrYiOw"
      },
      "source": [
        "# 1. Kaggle authentaction API and getting the Dataset"
      ]
    },
    {
      "cell_type": "code",
      "execution_count": 1,
      "metadata": {
        "colab": {
          "base_uri": "https://localhost:8080/"
        },
        "id": "eV9LZY3GGMtl",
        "outputId": "388ea052-2502-4dae-aae6-cc33cadc4790"
      },
      "outputs": [
        {
          "name": "stdout",
          "output_type": "stream",
          "text": [
            "Requirement already satisfied: kaggle in /usr/local/lib/python3.7/dist-packages (1.5.12)\n",
            "Requirement already satisfied: python-dateutil in /usr/local/lib/python3.7/dist-packages (from kaggle) (2.8.2)\n",
            "Requirement already satisfied: six>=1.10 in /usr/local/lib/python3.7/dist-packages (from kaggle) (1.15.0)\n",
            "Requirement already satisfied: requests in /usr/local/lib/python3.7/dist-packages (from kaggle) (2.23.0)\n",
            "Requirement already satisfied: python-slugify in /usr/local/lib/python3.7/dist-packages (from kaggle) (5.0.2)\n",
            "Requirement already satisfied: urllib3 in /usr/local/lib/python3.7/dist-packages (from kaggle) (1.24.3)\n",
            "Requirement already satisfied: certifi in /usr/local/lib/python3.7/dist-packages (from kaggle) (2021.5.30)\n",
            "Requirement already satisfied: tqdm in /usr/local/lib/python3.7/dist-packages (from kaggle) (4.62.3)\n",
            "Requirement already satisfied: text-unidecode>=1.3 in /usr/local/lib/python3.7/dist-packages (from python-slugify->kaggle) (1.3)\n",
            "Requirement already satisfied: chardet<4,>=3.0.2 in /usr/local/lib/python3.7/dist-packages (from requests->kaggle) (3.0.4)\n",
            "Requirement already satisfied: idna<3,>=2.5 in /usr/local/lib/python3.7/dist-packages (from requests->kaggle) (2.10)\n"
          ]
        }
      ],
      "source": [
        "! pip install kaggle"
      ]
    },
    {
      "cell_type": "code",
      "execution_count": null,
      "metadata": {
        "id": "CV49a4_XGUmR"
      },
      "outputs": [],
      "source": [
        "! mkdir ~/.kaggle"
      ]
    },
    {
      "cell_type": "code",
      "execution_count": 3,
      "metadata": {
        "id": "b6FlDS8hGXlT"
      },
      "outputs": [],
      "source": [
        "! cp kaggle.json ~/.kaggle"
      ]
    },
    {
      "cell_type": "code",
      "execution_count": 4,
      "metadata": {
        "id": "gX0BVtZOGeha"
      },
      "outputs": [],
      "source": [
        "! chmod 600 ~/.kaggle/kaggle.json"
      ]
    },
    {
      "cell_type": "code",
      "execution_count": 5,
      "metadata": {
        "colab": {
          "base_uri": "https://localhost:8080/"
        },
        "id": "8q__kIHGGgb2",
        "outputId": "131ccc5a-9bfc-4fb4-ca10-79af7c4011f5"
      },
      "outputs": [
        {
          "name": "stdout",
          "output_type": "stream",
          "text": [
            "weather-dataset-rattle-package.zip: Skipping, found more recently modified local copy (use --force to force download)\n"
          ]
        }
      ],
      "source": [
        "! kaggle datasets download jsphyg/weather-dataset-rattle-package"
      ]
    },
    {
      "cell_type": "code",
      "execution_count": 6,
      "metadata": {
        "colab": {
          "base_uri": "https://localhost:8080/"
        },
        "id": "h3wkc_w6Go9D",
        "outputId": "9044d2a9-c3ff-4ec8-8057-6d73015bcdb6"
      },
      "outputs": [
        {
          "name": "stdout",
          "output_type": "stream",
          "text": [
            "Archive:  weather-dataset-rattle-package.zip\n",
            "replace weatherAUS.csv? [y]es, [n]o, [A]ll, [N]one, [r]ename: y\n",
            "  inflating: weatherAUS.csv          \n"
          ]
        }
      ],
      "source": [
        "! unzip weather-dataset-rattle-package.zip"
      ]
    },
    {
      "cell_type": "markdown",
      "metadata": {
        "id": "m6c99POqYxyP"
      },
      "source": [
        "# 2. Impot the used libraries"
      ]
    },
    {
      "cell_type": "code",
      "execution_count": 139,
      "metadata": {
        "colab": {
          "base_uri": "https://localhost:8080/"
        },
        "id": "wQkVK1KANi3I",
        "outputId": "960a60f4-9de0-4d86-a5a7-4e74a508764a"
      },
      "outputs": [
        {
          "name": "stdout",
          "output_type": "stream",
          "text": [
            "Requirement already satisfied: xgboost in /usr/local/lib/python3.7/dist-packages (0.90)\n",
            "Requirement already satisfied: numpy in /usr/local/lib/python3.7/dist-packages (from xgboost) (1.19.5)\n",
            "Requirement already satisfied: scipy in /usr/local/lib/python3.7/dist-packages (from xgboost) (1.4.1)\n"
          ]
        }
      ],
      "source": [
        "! pip install xgboost"
      ]
    },
    {
      "cell_type": "code",
      "execution_count": 184,
      "metadata": {
        "id": "uFIrHvZRG1_m"
      },
      "outputs": [],
      "source": [
        "import numpy as np\n",
        "import pandas as pd\n",
        "import matplotlib.pyplot as plt\n",
        "import seaborn as sns\n",
        "import warnings\n",
        "\n",
        "warnings.filterwarnings('ignore')\n",
        "%matplotlib inline\n",
        "\n",
        "from IPython.display import display\n",
        "from sklearn.metrics import mutual_info_score, accuracy_score, roc_auc_score, precision_score, recall_score\n",
        "from sklearn.model_selection import train_test_split\n",
        "from sklearn.feature_extraction import DictVectorizer\n",
        "from sklearn.linear_model import LogisticRegression\n",
        "from sklearn.tree import DecisionTreeClassifier, export_text\n",
        "from sklearn.ensemble import RandomForestClassifier\n",
        "import xgboost as xgb\n",
        "\n",
        "\n",
        "import pickle"
      ]
    },
    {
      "cell_type": "markdown",
      "metadata": {
        "id": "A1g7LlyPY4Ai"
      },
      "source": [
        "# 3.  Loading the Dataset "
      ]
    },
    {
      "cell_type": "code",
      "execution_count": 8,
      "metadata": {
        "colab": {
          "base_uri": "https://localhost:8080/",
          "height": 309
        },
        "id": "JepDk1CWPiNT",
        "outputId": "64abe98a-3f29-492b-ba1b-b15c0ea087a5"
      },
      "outputs": [
        {
          "data": {
            "text/html": [
              "<div>\n",
              "<style scoped>\n",
              "    .dataframe tbody tr th:only-of-type {\n",
              "        vertical-align: middle;\n",
              "    }\n",
              "\n",
              "    .dataframe tbody tr th {\n",
              "        vertical-align: top;\n",
              "    }\n",
              "\n",
              "    .dataframe thead th {\n",
              "        text-align: right;\n",
              "    }\n",
              "</style>\n",
              "<table border=\"1\" class=\"dataframe\">\n",
              "  <thead>\n",
              "    <tr style=\"text-align: right;\">\n",
              "      <th></th>\n",
              "      <th>Date</th>\n",
              "      <th>Location</th>\n",
              "      <th>MinTemp</th>\n",
              "      <th>MaxTemp</th>\n",
              "      <th>Rainfall</th>\n",
              "      <th>Evaporation</th>\n",
              "      <th>Sunshine</th>\n",
              "      <th>WindGustDir</th>\n",
              "      <th>WindGustSpeed</th>\n",
              "      <th>WindDir9am</th>\n",
              "      <th>WindDir3pm</th>\n",
              "      <th>WindSpeed9am</th>\n",
              "      <th>WindSpeed3pm</th>\n",
              "      <th>Humidity9am</th>\n",
              "      <th>Humidity3pm</th>\n",
              "      <th>Pressure9am</th>\n",
              "      <th>Pressure3pm</th>\n",
              "      <th>Cloud9am</th>\n",
              "      <th>Cloud3pm</th>\n",
              "      <th>Temp9am</th>\n",
              "      <th>Temp3pm</th>\n",
              "      <th>RainToday</th>\n",
              "      <th>RainTomorrow</th>\n",
              "    </tr>\n",
              "  </thead>\n",
              "  <tbody>\n",
              "    <tr>\n",
              "      <th>0</th>\n",
              "      <td>2008-12-01</td>\n",
              "      <td>Albury</td>\n",
              "      <td>13.4</td>\n",
              "      <td>22.9</td>\n",
              "      <td>0.6</td>\n",
              "      <td>NaN</td>\n",
              "      <td>NaN</td>\n",
              "      <td>W</td>\n",
              "      <td>44.0</td>\n",
              "      <td>W</td>\n",
              "      <td>WNW</td>\n",
              "      <td>20.0</td>\n",
              "      <td>24.0</td>\n",
              "      <td>71.0</td>\n",
              "      <td>22.0</td>\n",
              "      <td>1007.7</td>\n",
              "      <td>1007.1</td>\n",
              "      <td>8.0</td>\n",
              "      <td>NaN</td>\n",
              "      <td>16.9</td>\n",
              "      <td>21.8</td>\n",
              "      <td>No</td>\n",
              "      <td>No</td>\n",
              "    </tr>\n",
              "    <tr>\n",
              "      <th>1</th>\n",
              "      <td>2008-12-02</td>\n",
              "      <td>Albury</td>\n",
              "      <td>7.4</td>\n",
              "      <td>25.1</td>\n",
              "      <td>0.0</td>\n",
              "      <td>NaN</td>\n",
              "      <td>NaN</td>\n",
              "      <td>WNW</td>\n",
              "      <td>44.0</td>\n",
              "      <td>NNW</td>\n",
              "      <td>WSW</td>\n",
              "      <td>4.0</td>\n",
              "      <td>22.0</td>\n",
              "      <td>44.0</td>\n",
              "      <td>25.0</td>\n",
              "      <td>1010.6</td>\n",
              "      <td>1007.8</td>\n",
              "      <td>NaN</td>\n",
              "      <td>NaN</td>\n",
              "      <td>17.2</td>\n",
              "      <td>24.3</td>\n",
              "      <td>No</td>\n",
              "      <td>No</td>\n",
              "    </tr>\n",
              "    <tr>\n",
              "      <th>2</th>\n",
              "      <td>2008-12-03</td>\n",
              "      <td>Albury</td>\n",
              "      <td>12.9</td>\n",
              "      <td>25.7</td>\n",
              "      <td>0.0</td>\n",
              "      <td>NaN</td>\n",
              "      <td>NaN</td>\n",
              "      <td>WSW</td>\n",
              "      <td>46.0</td>\n",
              "      <td>W</td>\n",
              "      <td>WSW</td>\n",
              "      <td>19.0</td>\n",
              "      <td>26.0</td>\n",
              "      <td>38.0</td>\n",
              "      <td>30.0</td>\n",
              "      <td>1007.6</td>\n",
              "      <td>1008.7</td>\n",
              "      <td>NaN</td>\n",
              "      <td>2.0</td>\n",
              "      <td>21.0</td>\n",
              "      <td>23.2</td>\n",
              "      <td>No</td>\n",
              "      <td>No</td>\n",
              "    </tr>\n",
              "    <tr>\n",
              "      <th>3</th>\n",
              "      <td>2008-12-04</td>\n",
              "      <td>Albury</td>\n",
              "      <td>9.2</td>\n",
              "      <td>28.0</td>\n",
              "      <td>0.0</td>\n",
              "      <td>NaN</td>\n",
              "      <td>NaN</td>\n",
              "      <td>NE</td>\n",
              "      <td>24.0</td>\n",
              "      <td>SE</td>\n",
              "      <td>E</td>\n",
              "      <td>11.0</td>\n",
              "      <td>9.0</td>\n",
              "      <td>45.0</td>\n",
              "      <td>16.0</td>\n",
              "      <td>1017.6</td>\n",
              "      <td>1012.8</td>\n",
              "      <td>NaN</td>\n",
              "      <td>NaN</td>\n",
              "      <td>18.1</td>\n",
              "      <td>26.5</td>\n",
              "      <td>No</td>\n",
              "      <td>No</td>\n",
              "    </tr>\n",
              "    <tr>\n",
              "      <th>4</th>\n",
              "      <td>2008-12-05</td>\n",
              "      <td>Albury</td>\n",
              "      <td>17.5</td>\n",
              "      <td>32.3</td>\n",
              "      <td>1.0</td>\n",
              "      <td>NaN</td>\n",
              "      <td>NaN</td>\n",
              "      <td>W</td>\n",
              "      <td>41.0</td>\n",
              "      <td>ENE</td>\n",
              "      <td>NW</td>\n",
              "      <td>7.0</td>\n",
              "      <td>20.0</td>\n",
              "      <td>82.0</td>\n",
              "      <td>33.0</td>\n",
              "      <td>1010.8</td>\n",
              "      <td>1006.0</td>\n",
              "      <td>7.0</td>\n",
              "      <td>8.0</td>\n",
              "      <td>17.8</td>\n",
              "      <td>29.7</td>\n",
              "      <td>No</td>\n",
              "      <td>No</td>\n",
              "    </tr>\n",
              "  </tbody>\n",
              "</table>\n",
              "</div>"
            ],
            "text/plain": [
              "         Date Location  MinTemp  ...  Temp3pm  RainToday  RainTomorrow\n",
              "0  2008-12-01   Albury     13.4  ...     21.8         No            No\n",
              "1  2008-12-02   Albury      7.4  ...     24.3         No            No\n",
              "2  2008-12-03   Albury     12.9  ...     23.2         No            No\n",
              "3  2008-12-04   Albury      9.2  ...     26.5         No            No\n",
              "4  2008-12-05   Albury     17.5  ...     29.7         No            No\n",
              "\n",
              "[5 rows x 23 columns]"
            ]
          },
          "execution_count": 8,
          "metadata": {},
          "output_type": "execute_result"
        }
      ],
      "source": [
        "df = pd.read_csv('weatherAUS.csv')\n",
        "df.head()"
      ]
    },
    {
      "cell_type": "code",
      "execution_count": 9,
      "metadata": {
        "id": "zG2wLZfZocLZ"
      },
      "outputs": [],
      "source": [
        "# The Date column is meaningless for analysis.\n",
        "del df['Date']"
      ]
    },
    {
      "cell_type": "code",
      "execution_count": 10,
      "metadata": {
        "colab": {
          "base_uri": "https://localhost:8080/"
        },
        "id": "wUSQ3CWadCMJ",
        "outputId": "e482f0e9-7aae-4bbb-d245-d33575bb92fe"
      },
      "outputs": [
        {
          "data": {
            "text/plain": [
              "(145460, 22)"
            ]
          },
          "execution_count": 10,
          "metadata": {},
          "output_type": "execute_result"
        }
      ],
      "source": [
        "len(df), len(df.columns)"
      ]
    },
    {
      "cell_type": "markdown",
      "metadata": {
        "id": "3g6g2D0bZQqr"
      },
      "source": [
        "# 4. Data Cleaning "
      ]
    },
    {
      "cell_type": "code",
      "execution_count": 11,
      "metadata": {
        "colab": {
          "base_uri": "https://localhost:8080/"
        },
        "id": "pqSSS9CVPoRH",
        "outputId": "67c1fb24-4e3b-4e6c-b96c-605c89a49a94"
      },
      "outputs": [
        {
          "data": {
            "text/plain": [
              "Index(['Location', 'MinTemp', 'MaxTemp', 'Rainfall', 'Evaporation', 'Sunshine',\n",
              "       'WindGustDir', 'WindGustSpeed', 'WindDir9am', 'WindDir3pm',\n",
              "       'WindSpeed9am', 'WindSpeed3pm', 'Humidity9am', 'Humidity3pm',\n",
              "       'Pressure9am', 'Pressure3pm', 'Cloud9am', 'Cloud3pm', 'Temp9am',\n",
              "       'Temp3pm', 'RainToday', 'RainTomorrow'],\n",
              "      dtype='object')"
            ]
          },
          "execution_count": 11,
          "metadata": {},
          "output_type": "execute_result"
        }
      ],
      "source": [
        "df.columns"
      ]
    },
    {
      "cell_type": "code",
      "execution_count": 12,
      "metadata": {
        "colab": {
          "base_uri": "https://localhost:8080/",
          "height": 224
        },
        "id": "VrbaXmZ2SFdx",
        "outputId": "b8fed616-5fd5-476b-c9d5-d2770c0b8427"
      },
      "outputs": [
        {
          "data": {
            "text/html": [
              "<div>\n",
              "<style scoped>\n",
              "    .dataframe tbody tr th:only-of-type {\n",
              "        vertical-align: middle;\n",
              "    }\n",
              "\n",
              "    .dataframe tbody tr th {\n",
              "        vertical-align: top;\n",
              "    }\n",
              "\n",
              "    .dataframe thead th {\n",
              "        text-align: right;\n",
              "    }\n",
              "</style>\n",
              "<table border=\"1\" class=\"dataframe\">\n",
              "  <thead>\n",
              "    <tr style=\"text-align: right;\">\n",
              "      <th></th>\n",
              "      <th>location</th>\n",
              "      <th>mintemp</th>\n",
              "      <th>maxtemp</th>\n",
              "      <th>rainfall</th>\n",
              "      <th>evaporation</th>\n",
              "      <th>sunshine</th>\n",
              "      <th>windgustdir</th>\n",
              "      <th>windgustspeed</th>\n",
              "      <th>winddir9am</th>\n",
              "      <th>winddir3pm</th>\n",
              "      <th>windspeed9am</th>\n",
              "      <th>windspeed3pm</th>\n",
              "      <th>humidity9am</th>\n",
              "      <th>humidity3pm</th>\n",
              "      <th>pressure9am</th>\n",
              "      <th>pressure3pm</th>\n",
              "      <th>cloud9am</th>\n",
              "      <th>cloud3pm</th>\n",
              "      <th>temp9am</th>\n",
              "      <th>temp3pm</th>\n",
              "      <th>raintoday</th>\n",
              "      <th>raintomorrow</th>\n",
              "    </tr>\n",
              "  </thead>\n",
              "  <tbody>\n",
              "    <tr>\n",
              "      <th>0</th>\n",
              "      <td>Albury</td>\n",
              "      <td>13.4</td>\n",
              "      <td>22.9</td>\n",
              "      <td>0.6</td>\n",
              "      <td>NaN</td>\n",
              "      <td>NaN</td>\n",
              "      <td>W</td>\n",
              "      <td>44.0</td>\n",
              "      <td>W</td>\n",
              "      <td>WNW</td>\n",
              "      <td>20.0</td>\n",
              "      <td>24.0</td>\n",
              "      <td>71.0</td>\n",
              "      <td>22.0</td>\n",
              "      <td>1007.7</td>\n",
              "      <td>1007.1</td>\n",
              "      <td>8.0</td>\n",
              "      <td>NaN</td>\n",
              "      <td>16.9</td>\n",
              "      <td>21.8</td>\n",
              "      <td>No</td>\n",
              "      <td>No</td>\n",
              "    </tr>\n",
              "    <tr>\n",
              "      <th>1</th>\n",
              "      <td>Albury</td>\n",
              "      <td>7.4</td>\n",
              "      <td>25.1</td>\n",
              "      <td>0.0</td>\n",
              "      <td>NaN</td>\n",
              "      <td>NaN</td>\n",
              "      <td>WNW</td>\n",
              "      <td>44.0</td>\n",
              "      <td>NNW</td>\n",
              "      <td>WSW</td>\n",
              "      <td>4.0</td>\n",
              "      <td>22.0</td>\n",
              "      <td>44.0</td>\n",
              "      <td>25.0</td>\n",
              "      <td>1010.6</td>\n",
              "      <td>1007.8</td>\n",
              "      <td>NaN</td>\n",
              "      <td>NaN</td>\n",
              "      <td>17.2</td>\n",
              "      <td>24.3</td>\n",
              "      <td>No</td>\n",
              "      <td>No</td>\n",
              "    </tr>\n",
              "    <tr>\n",
              "      <th>2</th>\n",
              "      <td>Albury</td>\n",
              "      <td>12.9</td>\n",
              "      <td>25.7</td>\n",
              "      <td>0.0</td>\n",
              "      <td>NaN</td>\n",
              "      <td>NaN</td>\n",
              "      <td>WSW</td>\n",
              "      <td>46.0</td>\n",
              "      <td>W</td>\n",
              "      <td>WSW</td>\n",
              "      <td>19.0</td>\n",
              "      <td>26.0</td>\n",
              "      <td>38.0</td>\n",
              "      <td>30.0</td>\n",
              "      <td>1007.6</td>\n",
              "      <td>1008.7</td>\n",
              "      <td>NaN</td>\n",
              "      <td>2.0</td>\n",
              "      <td>21.0</td>\n",
              "      <td>23.2</td>\n",
              "      <td>No</td>\n",
              "      <td>No</td>\n",
              "    </tr>\n",
              "    <tr>\n",
              "      <th>3</th>\n",
              "      <td>Albury</td>\n",
              "      <td>9.2</td>\n",
              "      <td>28.0</td>\n",
              "      <td>0.0</td>\n",
              "      <td>NaN</td>\n",
              "      <td>NaN</td>\n",
              "      <td>NE</td>\n",
              "      <td>24.0</td>\n",
              "      <td>SE</td>\n",
              "      <td>E</td>\n",
              "      <td>11.0</td>\n",
              "      <td>9.0</td>\n",
              "      <td>45.0</td>\n",
              "      <td>16.0</td>\n",
              "      <td>1017.6</td>\n",
              "      <td>1012.8</td>\n",
              "      <td>NaN</td>\n",
              "      <td>NaN</td>\n",
              "      <td>18.1</td>\n",
              "      <td>26.5</td>\n",
              "      <td>No</td>\n",
              "      <td>No</td>\n",
              "    </tr>\n",
              "    <tr>\n",
              "      <th>4</th>\n",
              "      <td>Albury</td>\n",
              "      <td>17.5</td>\n",
              "      <td>32.3</td>\n",
              "      <td>1.0</td>\n",
              "      <td>NaN</td>\n",
              "      <td>NaN</td>\n",
              "      <td>W</td>\n",
              "      <td>41.0</td>\n",
              "      <td>ENE</td>\n",
              "      <td>NW</td>\n",
              "      <td>7.0</td>\n",
              "      <td>20.0</td>\n",
              "      <td>82.0</td>\n",
              "      <td>33.0</td>\n",
              "      <td>1010.8</td>\n",
              "      <td>1006.0</td>\n",
              "      <td>7.0</td>\n",
              "      <td>8.0</td>\n",
              "      <td>17.8</td>\n",
              "      <td>29.7</td>\n",
              "      <td>No</td>\n",
              "      <td>No</td>\n",
              "    </tr>\n",
              "  </tbody>\n",
              "</table>\n",
              "</div>"
            ],
            "text/plain": [
              "  location  mintemp  maxtemp  rainfall  ...  temp9am  temp3pm raintoday  raintomorrow\n",
              "0   Albury     13.4     22.9       0.6  ...     16.9     21.8        No            No\n",
              "1   Albury      7.4     25.1       0.0  ...     17.2     24.3        No            No\n",
              "2   Albury     12.9     25.7       0.0  ...     21.0     23.2        No            No\n",
              "3   Albury      9.2     28.0       0.0  ...     18.1     26.5        No            No\n",
              "4   Albury     17.5     32.3       1.0  ...     17.8     29.7        No            No\n",
              "\n",
              "[5 rows x 22 columns]"
            ]
          },
          "execution_count": 12,
          "metadata": {},
          "output_type": "execute_result"
        }
      ],
      "source": [
        "df.columns = df.columns.str.lower()\n",
        "df.head()"
      ]
    },
    {
      "cell_type": "code",
      "execution_count": 13,
      "metadata": {
        "colab": {
          "base_uri": "https://localhost:8080/"
        },
        "id": "w9-xFm-4dIEz",
        "outputId": "cabd221d-908e-4141-a1d2-2b7f6cf9d60c"
      },
      "outputs": [
        {
          "data": {
            "text/plain": [
              "location          object\n",
              "mintemp          float64\n",
              "maxtemp          float64\n",
              "rainfall         float64\n",
              "evaporation      float64\n",
              "sunshine         float64\n",
              "windgustdir       object\n",
              "windgustspeed    float64\n",
              "winddir9am        object\n",
              "winddir3pm        object\n",
              "windspeed9am     float64\n",
              "windspeed3pm     float64\n",
              "humidity9am      float64\n",
              "humidity3pm      float64\n",
              "pressure9am      float64\n",
              "pressure3pm      float64\n",
              "cloud9am         float64\n",
              "cloud3pm         float64\n",
              "temp9am          float64\n",
              "temp3pm          float64\n",
              "raintoday         object\n",
              "raintomorrow      object\n",
              "dtype: object"
            ]
          },
          "execution_count": 13,
          "metadata": {},
          "output_type": "execute_result"
        }
      ],
      "source": [
        "df.dtypes"
      ]
    },
    {
      "cell_type": "code",
      "execution_count": 14,
      "metadata": {
        "id": "6kWV0RKOo_uP"
      },
      "outputs": [],
      "source": [
        "categorical_variables = ['location',\n",
        "  'windgustdir',\n",
        "  'winddir9am',\n",
        "  'winddir3pm',\n",
        "  'raintoday']\n",
        "\n",
        "numerical_variables = ['mintemp',\n",
        "  'maxtemp',\n",
        "  'rainfall',\n",
        "  'evaporation',\n",
        "  'sunshine',\n",
        "  'windgustspeed',\n",
        "  'windspeed9am',\n",
        "  'windspeed3pm',\n",
        "  'humidity9am',\n",
        "  'humidity3pm',\n",
        "  'pressure9am',\n",
        "  'pressure3pm',\n",
        "  'cloud9am',\n",
        "  'cloud3pm',\n",
        "  'temp9am',\n",
        "  'temp3pm']"
      ]
    },
    {
      "cell_type": "code",
      "execution_count": 15,
      "metadata": {
        "id": "5lodPK9FpM1Q"
      },
      "outputs": [],
      "source": [
        "for col in categorical_variables:\n",
        "  df[col] = df[col].str.lower()"
      ]
    },
    {
      "cell_type": "markdown",
      "metadata": {
        "id": "h5wZ3dBBQaT9"
      },
      "source": [
        "# 5. EDA"
      ]
    },
    {
      "cell_type": "markdown",
      "metadata": {
        "id": "DtXZJq_6su7X"
      },
      "source": [
        "## 5.0 The target variable analysis"
      ]
    },
    {
      "cell_type": "code",
      "execution_count": 16,
      "metadata": {
        "colab": {
          "base_uri": "https://localhost:8080/"
        },
        "id": "pnaCAS9DtFtD",
        "outputId": "4a122f6f-1ffd-4d48-8dfa-f631bd4c3894"
      },
      "outputs": [
        {
          "data": {
            "text/plain": [
              "location             0\n",
              "mintemp           1485\n",
              "maxtemp           1261\n",
              "rainfall          3261\n",
              "evaporation      62790\n",
              "sunshine         69835\n",
              "windgustdir      10326\n",
              "windgustspeed    10263\n",
              "winddir9am       10566\n",
              "winddir3pm        4228\n",
              "windspeed9am      1767\n",
              "windspeed3pm      3062\n",
              "humidity9am       2654\n",
              "humidity3pm       4507\n",
              "pressure9am      15065\n",
              "pressure3pm      15028\n",
              "cloud9am         55888\n",
              "cloud3pm         59358\n",
              "temp9am           1767\n",
              "temp3pm           3609\n",
              "raintoday         3261\n",
              "raintomorrow      3267\n",
              "dtype: int64"
            ]
          },
          "execution_count": 16,
          "metadata": {},
          "output_type": "execute_result"
        }
      ],
      "source": [
        "df.isnull().sum()"
      ]
    },
    {
      "cell_type": "code",
      "execution_count": 17,
      "metadata": {
        "colab": {
          "base_uri": "https://localhost:8080/"
        },
        "id": "Jdd8AIMyu32y",
        "outputId": "5e7356d0-ff65-496d-961b-c8a69f0e8341"
      },
      "outputs": [
        {
          "data": {
            "text/plain": [
              "array(['No', 'Yes', nan], dtype=object)"
            ]
          },
          "execution_count": 17,
          "metadata": {},
          "output_type": "execute_result"
        }
      ],
      "source": [
        "df['raintomorrow'].unique()"
      ]
    },
    {
      "cell_type": "code",
      "execution_count": 18,
      "metadata": {
        "id": "Sc5rv5Y7tCSj"
      },
      "outputs": [],
      "source": [
        "df = df.drop(df[df.raintomorrow.isnull()].index)\n",
        "df = df.reset_index(drop=True)"
      ]
    },
    {
      "cell_type": "code",
      "execution_count": 19,
      "metadata": {
        "colab": {
          "base_uri": "https://localhost:8080/"
        },
        "id": "O-zR9pJ5tHXD",
        "outputId": "5879d0c9-2347-4a13-f804-d81c5f583ba8"
      },
      "outputs": [
        {
          "data": {
            "text/plain": [
              "location             0\n",
              "mintemp            637\n",
              "maxtemp            322\n",
              "rainfall          1406\n",
              "evaporation      60843\n",
              "sunshine         67816\n",
              "windgustdir       9330\n",
              "windgustspeed     9270\n",
              "winddir9am       10013\n",
              "winddir3pm        3778\n",
              "windspeed9am      1348\n",
              "windspeed3pm      2630\n",
              "humidity9am       1774\n",
              "humidity3pm       3610\n",
              "pressure9am      14014\n",
              "pressure3pm      13981\n",
              "cloud9am         53657\n",
              "cloud3pm         57094\n",
              "temp9am            904\n",
              "temp3pm           2726\n",
              "raintoday         1406\n",
              "raintomorrow         0\n",
              "dtype: int64"
            ]
          },
          "execution_count": 19,
          "metadata": {},
          "output_type": "execute_result"
        }
      ],
      "source": [
        "df.isnull().sum()"
      ]
    },
    {
      "cell_type": "code",
      "execution_count": 20,
      "metadata": {
        "colab": {
          "base_uri": "https://localhost:8080/"
        },
        "id": "GqY516AhuvfU",
        "outputId": "9f3a2878-ae29-40f6-929f-8c39b8f67367"
      },
      "outputs": [
        {
          "data": {
            "text/plain": [
              "array(['No', 'Yes'], dtype=object)"
            ]
          },
          "execution_count": 20,
          "metadata": {},
          "output_type": "execute_result"
        }
      ],
      "source": [
        "df['raintomorrow'].unique()"
      ]
    },
    {
      "cell_type": "code",
      "execution_count": 21,
      "metadata": {
        "colab": {
          "base_uri": "https://localhost:8080/",
          "height": 296
        },
        "id": "aWiejAYWtWpG",
        "outputId": "1ac84189-a2d6-4a3b-8be7-b627e9e7d9c2"
      },
      "outputs": [
        {
          "data": {
            "text/plain": [
              "<matplotlib.axes._subplots.AxesSubplot at 0x7f717dd4c510>"
            ]
          },
          "execution_count": 21,
          "metadata": {},
          "output_type": "execute_result"
        },
        {
          "data": {
            "image/png": "[encoded data removed]",
            "text/plain": [
              "<Figure size 432x288 with 1 Axes>"
            ]
          },
          "metadata": {
            "needs_background": "light"
          },
          "output_type": "display_data"
        }
      ],
      "source": [
        "sns.countplot(x='raintomorrow', data=df)"
      ]
    },
    {
      "cell_type": "code",
      "execution_count": 22,
      "metadata": {
        "id": "hVHRpWL5tSNp"
      },
      "outputs": [],
      "source": [
        "df['raintomorrow'] = (df['raintomorrow'] == 'Yes').astype(int)"
      ]
    },
    {
      "cell_type": "markdown",
      "metadata": {
        "id": "HlnamaXTu3o2"
      },
      "source": [
        "## 5.1 Categorical feature analysis"
      ]
    },
    {
      "cell_type": "markdown",
      "metadata": {
        "id": "jjtmFhZempXV"
      },
      "source": [
        "### 5.1.1 Dealing with the missing values"
      ]
    },
    {
      "cell_type": "code",
      "execution_count": 23,
      "metadata": {
        "colab": {
          "base_uri": "https://localhost:8080/",
          "height": 419
        },
        "id": "cBKPK4r1uTK3",
        "outputId": "1ccbddb6-9f12-4310-ef67-d23879c6645a"
      },
      "outputs": [
        {
          "data": {
            "text/html": [
              "<div>\n",
              "<style scoped>\n",
              "    .dataframe tbody tr th:only-of-type {\n",
              "        vertical-align: middle;\n",
              "    }\n",
              "\n",
              "    .dataframe tbody tr th {\n",
              "        vertical-align: top;\n",
              "    }\n",
              "\n",
              "    .dataframe thead th {\n",
              "        text-align: right;\n",
              "    }\n",
              "</style>\n",
              "<table border=\"1\" class=\"dataframe\">\n",
              "  <thead>\n",
              "    <tr style=\"text-align: right;\">\n",
              "      <th></th>\n",
              "      <th>location</th>\n",
              "      <th>windgustdir</th>\n",
              "      <th>winddir9am</th>\n",
              "      <th>winddir3pm</th>\n",
              "      <th>raintoday</th>\n",
              "    </tr>\n",
              "  </thead>\n",
              "  <tbody>\n",
              "    <tr>\n",
              "      <th>0</th>\n",
              "      <td>albury</td>\n",
              "      <td>w</td>\n",
              "      <td>w</td>\n",
              "      <td>wnw</td>\n",
              "      <td>no</td>\n",
              "    </tr>\n",
              "    <tr>\n",
              "      <th>1</th>\n",
              "      <td>albury</td>\n",
              "      <td>wnw</td>\n",
              "      <td>nnw</td>\n",
              "      <td>wsw</td>\n",
              "      <td>no</td>\n",
              "    </tr>\n",
              "    <tr>\n",
              "      <th>2</th>\n",
              "      <td>albury</td>\n",
              "      <td>wsw</td>\n",
              "      <td>w</td>\n",
              "      <td>wsw</td>\n",
              "      <td>no</td>\n",
              "    </tr>\n",
              "    <tr>\n",
              "      <th>3</th>\n",
              "      <td>albury</td>\n",
              "      <td>ne</td>\n",
              "      <td>se</td>\n",
              "      <td>e</td>\n",
              "      <td>no</td>\n",
              "    </tr>\n",
              "    <tr>\n",
              "      <th>4</th>\n",
              "      <td>albury</td>\n",
              "      <td>w</td>\n",
              "      <td>ene</td>\n",
              "      <td>nw</td>\n",
              "      <td>no</td>\n",
              "    </tr>\n",
              "    <tr>\n",
              "      <th>...</th>\n",
              "      <td>...</td>\n",
              "      <td>...</td>\n",
              "      <td>...</td>\n",
              "      <td>...</td>\n",
              "      <td>...</td>\n",
              "    </tr>\n",
              "    <tr>\n",
              "      <th>142188</th>\n",
              "      <td>uluru</td>\n",
              "      <td>e</td>\n",
              "      <td>ese</td>\n",
              "      <td>e</td>\n",
              "      <td>no</td>\n",
              "    </tr>\n",
              "    <tr>\n",
              "      <th>142189</th>\n",
              "      <td>uluru</td>\n",
              "      <td>e</td>\n",
              "      <td>se</td>\n",
              "      <td>ene</td>\n",
              "      <td>no</td>\n",
              "    </tr>\n",
              "    <tr>\n",
              "      <th>142190</th>\n",
              "      <td>uluru</td>\n",
              "      <td>nnw</td>\n",
              "      <td>se</td>\n",
              "      <td>n</td>\n",
              "      <td>no</td>\n",
              "    </tr>\n",
              "    <tr>\n",
              "      <th>142191</th>\n",
              "      <td>uluru</td>\n",
              "      <td>n</td>\n",
              "      <td>se</td>\n",
              "      <td>wnw</td>\n",
              "      <td>no</td>\n",
              "    </tr>\n",
              "    <tr>\n",
              "      <th>142192</th>\n",
              "      <td>uluru</td>\n",
              "      <td>se</td>\n",
              "      <td>sse</td>\n",
              "      <td>n</td>\n",
              "      <td>no</td>\n",
              "    </tr>\n",
              "  </tbody>\n",
              "</table>\n",
              "<p>142193 rows × 5 columns</p>\n",
              "</div>"
            ],
            "text/plain": [
              "       location windgustdir winddir9am winddir3pm raintoday\n",
              "0        albury           w          w        wnw        no\n",
              "1        albury         wnw        nnw        wsw        no\n",
              "2        albury         wsw          w        wsw        no\n",
              "3        albury          ne         se          e        no\n",
              "4        albury           w        ene         nw        no\n",
              "...         ...         ...        ...        ...       ...\n",
              "142188    uluru           e        ese          e        no\n",
              "142189    uluru           e         se        ene        no\n",
              "142190    uluru         nnw         se          n        no\n",
              "142191    uluru           n         se        wnw        no\n",
              "142192    uluru          se        sse          n        no\n",
              "\n",
              "[142193 rows x 5 columns]"
            ]
          },
          "execution_count": 23,
          "metadata": {},
          "output_type": "execute_result"
        }
      ],
      "source": [
        "df[categorical_variables]"
      ]
    },
    {
      "cell_type": "code",
      "execution_count": 24,
      "metadata": {
        "id": "LEzRGX7ohNDN"
      },
      "outputs": [],
      "source": [
        "for col in categorical_variables:\n",
        "  df[col] = df.groupby(df['raintomorrow'])[col].apply(lambda f: f.fillna(f.mode().values[0]))"
      ]
    },
    {
      "cell_type": "code",
      "execution_count": 25,
      "metadata": {
        "colab": {
          "base_uri": "https://localhost:8080/"
        },
        "id": "on9aJCEiIIid",
        "outputId": "4edb8451-8ad4-468b-9d0f-65a1a1bad5d5"
      },
      "outputs": [
        {
          "data": {
            "text/plain": [
              "location       0\n",
              "windgustdir    0\n",
              "winddir9am     0\n",
              "winddir3pm     0\n",
              "raintoday      0\n",
              "dtype: int64"
            ]
          },
          "execution_count": 25,
          "metadata": {},
          "output_type": "execute_result"
        }
      ],
      "source": [
        "df[categorical_variables].isnull().sum()"
      ]
    },
    {
      "cell_type": "code",
      "execution_count": 26,
      "metadata": {
        "colab": {
          "base_uri": "https://localhost:8080/"
        },
        "id": "92HUr4_wyxVZ",
        "outputId": "e7552aa1-f8a8-4056-d84e-792885ef0d58"
      },
      "outputs": [
        {
          "data": {
            "text/plain": [
              "0    110738\n",
              "1     31455\n",
              "Name: raintoday, dtype: int64"
            ]
          },
          "execution_count": 26,
          "metadata": {},
          "output_type": "execute_result"
        }
      ],
      "source": [
        "df['raintoday'] = (df['raintoday'] == 'yes').astype(int).astype(str)\n",
        "df['raintoday'].value_counts()"
      ]
    },
    {
      "cell_type": "markdown",
      "metadata": {
        "id": "RthEXFRsmvgY"
      },
      "source": [
        "### 5.1.2 Depandancy analysis"
      ]
    },
    {
      "cell_type": "code",
      "execution_count": 27,
      "metadata": {
        "colab": {
          "base_uri": "https://localhost:8080/"
        },
        "id": "nq-Sz4u9oL7q",
        "outputId": "68142fd5-2549-48e3-f421-0a5d061ebc6d"
      },
      "outputs": [
        {
          "data": {
            "text/plain": [
              "raintoday      0.042133\n",
              "windgustdir    0.019381\n",
              "location       0.013265\n",
              "winddir3pm     0.007723\n",
              "winddir9am     0.006762\n",
              "dtype: float64"
            ]
          },
          "execution_count": 27,
          "metadata": {},
          "output_type": "execute_result"
        }
      ],
      "source": [
        "mi = df[categorical_variables].apply(lambda a: mutual_info_score(a, df['raintomorrow']))\n",
        "mi.sort_values(ascending=False)"
      ]
    },
    {
      "cell_type": "markdown",
      "metadata": {
        "id": "n9gJVqrRQhKa"
      },
      "source": [
        "## 5.1 Numerical feature analysis"
      ]
    },
    {
      "cell_type": "markdown",
      "metadata": {
        "id": "nQqkywbyf11X"
      },
      "source": [
        "### 5.1.1 Univariate analysis"
      ]
    },
    {
      "cell_type": "code",
      "execution_count": 28,
      "metadata": {
        "colab": {
          "base_uri": "https://localhost:8080/",
          "height": 317
        },
        "id": "pkSGm8nygB2k",
        "outputId": "16f3357e-72ae-4249-eba9-29315874822f"
      },
      "outputs": [
        {
          "data": {
            "text/html": [
              "<div>\n",
              "<style scoped>\n",
              "    .dataframe tbody tr th:only-of-type {\n",
              "        vertical-align: middle;\n",
              "    }\n",
              "\n",
              "    .dataframe tbody tr th {\n",
              "        vertical-align: top;\n",
              "    }\n",
              "\n",
              "    .dataframe thead th {\n",
              "        text-align: right;\n",
              "    }\n",
              "</style>\n",
              "<table border=\"1\" class=\"dataframe\">\n",
              "  <thead>\n",
              "    <tr style=\"text-align: right;\">\n",
              "      <th></th>\n",
              "      <th>mintemp</th>\n",
              "      <th>maxtemp</th>\n",
              "      <th>rainfall</th>\n",
              "      <th>evaporation</th>\n",
              "      <th>sunshine</th>\n",
              "      <th>windgustspeed</th>\n",
              "      <th>windspeed9am</th>\n",
              "      <th>windspeed3pm</th>\n",
              "      <th>humidity9am</th>\n",
              "      <th>humidity3pm</th>\n",
              "      <th>pressure9am</th>\n",
              "      <th>pressure3pm</th>\n",
              "      <th>cloud9am</th>\n",
              "      <th>cloud3pm</th>\n",
              "      <th>temp9am</th>\n",
              "      <th>temp3pm</th>\n",
              "    </tr>\n",
              "  </thead>\n",
              "  <tbody>\n",
              "    <tr>\n",
              "      <th>count</th>\n",
              "      <td>141556.000000</td>\n",
              "      <td>141871.000000</td>\n",
              "      <td>140787.000000</td>\n",
              "      <td>81350.000000</td>\n",
              "      <td>74377.000000</td>\n",
              "      <td>132923.000000</td>\n",
              "      <td>140845.000000</td>\n",
              "      <td>139563.000000</td>\n",
              "      <td>140419.000000</td>\n",
              "      <td>138583.000000</td>\n",
              "      <td>128179.000000</td>\n",
              "      <td>128212.000000</td>\n",
              "      <td>88536.000000</td>\n",
              "      <td>85099.000000</td>\n",
              "      <td>141289.000000</td>\n",
              "      <td>139467.000000</td>\n",
              "    </tr>\n",
              "    <tr>\n",
              "      <th>mean</th>\n",
              "      <td>12.186400</td>\n",
              "      <td>23.226784</td>\n",
              "      <td>2.349974</td>\n",
              "      <td>5.469824</td>\n",
              "      <td>7.624853</td>\n",
              "      <td>39.984292</td>\n",
              "      <td>14.001988</td>\n",
              "      <td>18.637576</td>\n",
              "      <td>68.843810</td>\n",
              "      <td>51.482606</td>\n",
              "      <td>1017.653758</td>\n",
              "      <td>1015.258204</td>\n",
              "      <td>4.437189</td>\n",
              "      <td>4.503167</td>\n",
              "      <td>16.987509</td>\n",
              "      <td>21.687235</td>\n",
              "    </tr>\n",
              "    <tr>\n",
              "      <th>std</th>\n",
              "      <td>6.403283</td>\n",
              "      <td>7.117618</td>\n",
              "      <td>8.465173</td>\n",
              "      <td>4.188537</td>\n",
              "      <td>3.781525</td>\n",
              "      <td>13.588801</td>\n",
              "      <td>8.893337</td>\n",
              "      <td>8.803345</td>\n",
              "      <td>19.051293</td>\n",
              "      <td>20.797772</td>\n",
              "      <td>7.105476</td>\n",
              "      <td>7.036677</td>\n",
              "      <td>2.887016</td>\n",
              "      <td>2.720633</td>\n",
              "      <td>6.492838</td>\n",
              "      <td>6.937594</td>\n",
              "    </tr>\n",
              "    <tr>\n",
              "      <th>min</th>\n",
              "      <td>-8.500000</td>\n",
              "      <td>-4.800000</td>\n",
              "      <td>0.000000</td>\n",
              "      <td>0.000000</td>\n",
              "      <td>0.000000</td>\n",
              "      <td>6.000000</td>\n",
              "      <td>0.000000</td>\n",
              "      <td>0.000000</td>\n",
              "      <td>0.000000</td>\n",
              "      <td>0.000000</td>\n",
              "      <td>980.500000</td>\n",
              "      <td>977.100000</td>\n",
              "      <td>0.000000</td>\n",
              "      <td>0.000000</td>\n",
              "      <td>-7.200000</td>\n",
              "      <td>-5.400000</td>\n",
              "    </tr>\n",
              "    <tr>\n",
              "      <th>25%</th>\n",
              "      <td>7.600000</td>\n",
              "      <td>17.900000</td>\n",
              "      <td>0.000000</td>\n",
              "      <td>2.600000</td>\n",
              "      <td>4.900000</td>\n",
              "      <td>31.000000</td>\n",
              "      <td>7.000000</td>\n",
              "      <td>13.000000</td>\n",
              "      <td>57.000000</td>\n",
              "      <td>37.000000</td>\n",
              "      <td>1012.900000</td>\n",
              "      <td>1010.400000</td>\n",
              "      <td>1.000000</td>\n",
              "      <td>2.000000</td>\n",
              "      <td>12.300000</td>\n",
              "      <td>16.600000</td>\n",
              "    </tr>\n",
              "    <tr>\n",
              "      <th>50%</th>\n",
              "      <td>12.000000</td>\n",
              "      <td>22.600000</td>\n",
              "      <td>0.000000</td>\n",
              "      <td>4.800000</td>\n",
              "      <td>8.500000</td>\n",
              "      <td>39.000000</td>\n",
              "      <td>13.000000</td>\n",
              "      <td>19.000000</td>\n",
              "      <td>70.000000</td>\n",
              "      <td>52.000000</td>\n",
              "      <td>1017.600000</td>\n",
              "      <td>1015.200000</td>\n",
              "      <td>5.000000</td>\n",
              "      <td>5.000000</td>\n",
              "      <td>16.700000</td>\n",
              "      <td>21.100000</td>\n",
              "    </tr>\n",
              "    <tr>\n",
              "      <th>75%</th>\n",
              "      <td>16.800000</td>\n",
              "      <td>28.200000</td>\n",
              "      <td>0.800000</td>\n",
              "      <td>7.400000</td>\n",
              "      <td>10.600000</td>\n",
              "      <td>48.000000</td>\n",
              "      <td>19.000000</td>\n",
              "      <td>24.000000</td>\n",
              "      <td>83.000000</td>\n",
              "      <td>66.000000</td>\n",
              "      <td>1022.400000</td>\n",
              "      <td>1020.000000</td>\n",
              "      <td>7.000000</td>\n",
              "      <td>7.000000</td>\n",
              "      <td>21.600000</td>\n",
              "      <td>26.400000</td>\n",
              "    </tr>\n",
              "    <tr>\n",
              "      <th>max</th>\n",
              "      <td>33.900000</td>\n",
              "      <td>48.100000</td>\n",
              "      <td>371.000000</td>\n",
              "      <td>145.000000</td>\n",
              "      <td>14.500000</td>\n",
              "      <td>135.000000</td>\n",
              "      <td>130.000000</td>\n",
              "      <td>87.000000</td>\n",
              "      <td>100.000000</td>\n",
              "      <td>100.000000</td>\n",
              "      <td>1041.000000</td>\n",
              "      <td>1039.600000</td>\n",
              "      <td>9.000000</td>\n",
              "      <td>9.000000</td>\n",
              "      <td>40.200000</td>\n",
              "      <td>46.700000</td>\n",
              "    </tr>\n",
              "  </tbody>\n",
              "</table>\n",
              "</div>"
            ],
            "text/plain": [
              "             mintemp        maxtemp  ...        temp9am        temp3pm\n",
              "count  141556.000000  141871.000000  ...  141289.000000  139467.000000\n",
              "mean       12.186400      23.226784  ...      16.987509      21.687235\n",
              "std         6.403283       7.117618  ...       6.492838       6.937594\n",
              "min        -8.500000      -4.800000  ...      -7.200000      -5.400000\n",
              "25%         7.600000      17.900000  ...      12.300000      16.600000\n",
              "50%        12.000000      22.600000  ...      16.700000      21.100000\n",
              "75%        16.800000      28.200000  ...      21.600000      26.400000\n",
              "max        33.900000      48.100000  ...      40.200000      46.700000\n",
              "\n",
              "[8 rows x 16 columns]"
            ]
          },
          "execution_count": 28,
          "metadata": {},
          "output_type": "execute_result"
        }
      ],
      "source": [
        "df[numerical_variables].describe()"
      ]
    },
    {
      "cell_type": "code",
      "execution_count": 29,
      "metadata": {
        "colab": {
          "base_uri": "https://localhost:8080/",
          "height": 879
        },
        "id": "t5Wi9ticJ8ew",
        "outputId": "4217bd27-5aea-4c2f-a8c8-7f303d76921b"
      },
      "outputs": [
        {
          "data": {
            "image/png": "[encoded data removed]",
            "text/plain": [
              "<Figure size 1080x1080 with 16 Axes>"
            ]
          },
          "metadata": {
            "needs_background": "light"
          },
          "output_type": "display_data"
        }
      ],
      "source": [
        "pd.plotting.hist_frame(df[numerical_variables], figsize=(15,15), bins=50, layout=(4, 4));"
      ]
    },
    {
      "cell_type": "code",
      "execution_count": 30,
      "metadata": {
        "colab": {
          "base_uri": "https://localhost:8080/"
        },
        "id": "vI860clA9YNt",
        "outputId": "d015addd-04bd-4cbe-b9e7-bf7107fab991"
      },
      "outputs": [
        {
          "data": {
            "text/plain": [
              "mintemp            637\n",
              "maxtemp            322\n",
              "rainfall          1406\n",
              "evaporation      60843\n",
              "sunshine         67816\n",
              "windgustspeed     9270\n",
              "windspeed9am      1348\n",
              "windspeed3pm      2630\n",
              "humidity9am       1774\n",
              "humidity3pm       3610\n",
              "pressure9am      14014\n",
              "pressure3pm      13981\n",
              "cloud9am         53657\n",
              "cloud3pm         57094\n",
              "temp9am            904\n",
              "temp3pm           2726\n",
              "dtype: int64"
            ]
          },
          "execution_count": 30,
          "metadata": {},
          "output_type": "execute_result"
        }
      ],
      "source": [
        "df[numerical_variables].isnull().sum()"
      ]
    },
    {
      "cell_type": "code",
      "execution_count": 31,
      "metadata": {
        "id": "PNnIUf4d9o_P"
      },
      "outputs": [],
      "source": [
        "uniformally_distributed_variables = ['mintemp', 'maxtemp', \n",
        "                                     'sunshine', 'windgustspeed', \n",
        "                                     'windspeed3pm', 'humidity9am', \n",
        "                                     'humidity3pm', 'pressure9am',\n",
        "                                     'pressure3pm', 'temp9am', \n",
        "                                     'temp3pm'\n",
        "                                     ]\n",
        "for col in uniformally_distributed_variables:\n",
        "  df[col] = df.groupby(df['raintomorrow'])[col].apply(lambda f: f.fillna(f.mean()))"
      ]
    },
    {
      "cell_type": "code",
      "execution_count": 32,
      "metadata": {
        "colab": {
          "base_uri": "https://localhost:8080/"
        },
        "id": "erzDeNcxjp9p",
        "outputId": "298c20c6-4f3b-4550-d00a-3d59a545f3ad"
      },
      "outputs": [
        {
          "data": {
            "text/plain": [
              "mintemp              0\n",
              "maxtemp              0\n",
              "rainfall          1406\n",
              "evaporation      60843\n",
              "sunshine             0\n",
              "windgustspeed        0\n",
              "windspeed9am      1348\n",
              "windspeed3pm         0\n",
              "humidity9am          0\n",
              "humidity3pm          0\n",
              "pressure9am          0\n",
              "pressure3pm          0\n",
              "cloud9am         53657\n",
              "cloud3pm         57094\n",
              "temp9am              0\n",
              "temp3pm              0\n",
              "dtype: int64"
            ]
          },
          "execution_count": 32,
          "metadata": {},
          "output_type": "execute_result"
        }
      ],
      "source": [
        "df[numerical_variables].isnull().sum()"
      ]
    },
    {
      "cell_type": "markdown",
      "metadata": {
        "id": "vMPsaMpJCK8g"
      },
      "source": [
        "#### More Checking the other numerical variables distributions"
      ]
    },
    {
      "cell_type": "code",
      "execution_count": 33,
      "metadata": {
        "colab": {
          "base_uri": "https://localhost:8080/",
          "height": 806
        },
        "id": "NJqckZES_Zv1",
        "outputId": "75d3b6d8-45a5-4b82-c62c-c70358e0cfc8"
      },
      "outputs": [
        {
          "data": {
            "image/png": "[encoded data removed]",
            "text/plain": [
              "<Figure size 432x288 with 1 Axes>"
            ]
          },
          "metadata": {
            "needs_background": "light"
          },
          "output_type": "display_data"
        },
        {
          "data": {
            "image/png": "[encoded data removed]",
            "text/plain": [
              "<Figure size 432x288 with 1 Axes>"
            ]
          },
          "metadata": {
            "needs_background": "light"
          },
          "output_type": "display_data"
        },
        {
          "data": {
            "image/png": "[encoded data removed]",
            "text/plain": [
              "<Figure size 432x288 with 1 Axes>"
            ]
          },
          "metadata": {
            "needs_background": "light"
          },
          "output_type": "display_data"
        }
      ],
      "source": [
        "sns.histplot(df.evaporation[df.evaporation < 40], bins=100)\n",
        "plt.show()\n",
        "sns.histplot(df.windspeed9am, bins=50)\n",
        "plt.show()\n",
        "sns.histplot(df.rainfall[df.rainfall < 10], bins=100);"
      ]
    },
    {
      "cell_type": "code",
      "execution_count": 34,
      "metadata": {
        "id": "X-ZQvoUlALTj"
      },
      "outputs": [],
      "source": [
        "right_skewed_distributed_variables = ['rainfall', 'evaporation', 'windspeed9am', 'cloud9am', 'cloud3pm']\n",
        "\n",
        "for col in right_skewed_distributed_variables:\n",
        "  df[col] = df.groupby(df['raintomorrow'])[col].apply(lambda f: f.fillna(f.median()))"
      ]
    },
    {
      "cell_type": "code",
      "execution_count": 35,
      "metadata": {
        "colab": {
          "base_uri": "https://localhost:8080/"
        },
        "id": "oRJU8YdODtHD",
        "outputId": "ee8b0585-01c0-44b1-c400-0f45d4cfe50e"
      },
      "outputs": [
        {
          "data": {
            "text/plain": [
              "mintemp          0\n",
              "maxtemp          0\n",
              "rainfall         0\n",
              "evaporation      0\n",
              "sunshine         0\n",
              "windgustspeed    0\n",
              "windspeed9am     0\n",
              "windspeed3pm     0\n",
              "humidity9am      0\n",
              "humidity3pm      0\n",
              "pressure9am      0\n",
              "pressure3pm      0\n",
              "cloud9am         0\n",
              "cloud3pm         0\n",
              "temp9am          0\n",
              "temp3pm          0\n",
              "dtype: int64"
            ]
          },
          "execution_count": 35,
          "metadata": {},
          "output_type": "execute_result"
        }
      ],
      "source": [
        "df[numerical_variables].isnull().sum()"
      ]
    },
    {
      "cell_type": "markdown",
      "metadata": {
        "id": "2zL_6BNiiwGu"
      },
      "source": [
        "### 5.1.2 Bivariate analysis"
      ]
    },
    {
      "cell_type": "code",
      "execution_count": 36,
      "metadata": {
        "colab": {
          "base_uri": "https://localhost:8080/",
          "height": 679
        },
        "id": "8maW6zX9lvEC",
        "outputId": "8ab3bb81-8fe5-4c87-c567-1e00f8b460a5"
      },
      "outputs": [
        {
          "data": {
            "text/plain": [
              "<matplotlib.axes._subplots.AxesSubplot at 0x7f71791cba50>"
            ]
          },
          "execution_count": 36,
          "metadata": {},
          "output_type": "execute_result"
        },
        {
          "data": {
            "image/png": "[encoded data removed]",
            "text/plain": [
              "<Figure size 1080x720 with 2 Axes>"
            ]
          },
          "metadata": {
            "needs_background": "light"
          },
          "output_type": "display_data"
        }
      ],
      "source": [
        "fig, ax = plt.subplots(figsize=(15,10)) \n",
        "sns.heatmap(df[numerical_variables].corr(), annot=True, ax=ax)"
      ]
    },
    {
      "cell_type": "code",
      "execution_count": null,
      "metadata": {
        "colab": {
          "base_uri": "https://localhost:8080/",
          "height": 392
        },
        "id": "MfdBFWV6mPFW",
        "outputId": "e70acfca-6f88-46fc-f0fd-858d24b972bf"
      },
      "outputs": [
        {
          "name": "stdout",
          "output_type": "stream",
          "text": [
            "Error in callback <function install_repl_displayhook.<locals>.post_execute at 0x7f9f38076cb0> (for post_execute):\n"
          ]
        },
        {
          "ename": "KeyboardInterrupt",
          "evalue": "ignored",
          "output_type": "error",
          "traceback": [
            "\u001b[0;31m---------------------------------------------------------------------------\u001b[0m",
            "\u001b[0;31mKeyboardInterrupt\u001b[0m                         Traceback (most recent call last)",
            "\u001b[0;32m/usr/local/lib/python3.7/dist-packages/matplotlib/pyplot.py\u001b[0m in \u001b[0;36mpost_execute\u001b[0;34m()\u001b[0m\n\u001b[1;32m    107\u001b[0m             \u001b[0;32mdef\u001b[0m \u001b[0mpost_execute\u001b[0m\u001b[0;34m(\u001b[0m\u001b[0;34m)\u001b[0m\u001b[0;34m:\u001b[0m\u001b[0;34m\u001b[0m\u001b[0;34m\u001b[0m\u001b[0m\n\u001b[1;32m    108\u001b[0m                 \u001b[0;32mif\u001b[0m \u001b[0mmatplotlib\u001b[0m\u001b[0;34m.\u001b[0m\u001b[0mis_interactive\u001b[0m\u001b[0;34m(\u001b[0m\u001b[0;34m)\u001b[0m\u001b[0;34m:\u001b[0m\u001b[0;34m\u001b[0m\u001b[0;34m\u001b[0m\u001b[0m\n\u001b[0;32m--> 109\u001b[0;31m                     \u001b[0mdraw_all\u001b[0m\u001b[0;34m(\u001b[0m\u001b[0;34m)\u001b[0m\u001b[0;34m\u001b[0m\u001b[0;34m\u001b[0m\u001b[0m\n\u001b[0m\u001b[1;32m    110\u001b[0m \u001b[0;34m\u001b[0m\u001b[0m\n\u001b[1;32m    111\u001b[0m             \u001b[0;31m# IPython >= 2\u001b[0m\u001b[0;34m\u001b[0m\u001b[0;34m\u001b[0m\u001b[0;34m\u001b[0m\u001b[0m\n",
            "\u001b[0;32m/usr/local/lib/python3.7/dist-packages/matplotlib/_pylab_helpers.py\u001b[0m in \u001b[0;36mdraw_all\u001b[0;34m(cls, force)\u001b[0m\n\u001b[1;32m    125\u001b[0m         \u001b[0;32mfor\u001b[0m \u001b[0mf_mgr\u001b[0m \u001b[0;32min\u001b[0m \u001b[0mcls\u001b[0m\u001b[0;34m.\u001b[0m\u001b[0mget_all_fig_managers\u001b[0m\u001b[0;34m(\u001b[0m\u001b[0;34m)\u001b[0m\u001b[0;34m:\u001b[0m\u001b[0;34m\u001b[0m\u001b[0;34m\u001b[0m\u001b[0m\n\u001b[1;32m    126\u001b[0m             \u001b[0;32mif\u001b[0m \u001b[0mforce\u001b[0m \u001b[0;32mor\u001b[0m \u001b[0mf_mgr\u001b[0m\u001b[0;34m.\u001b[0m\u001b[0mcanvas\u001b[0m\u001b[0;34m.\u001b[0m\u001b[0mfigure\u001b[0m\u001b[0;34m.\u001b[0m\u001b[0mstale\u001b[0m\u001b[0;34m:\u001b[0m\u001b[0;34m\u001b[0m\u001b[0;34m\u001b[0m\u001b[0m\n\u001b[0;32m--> 127\u001b[0;31m                 \u001b[0mf_mgr\u001b[0m\u001b[0;34m.\u001b[0m\u001b[0mcanvas\u001b[0m\u001b[0;34m.\u001b[0m\u001b[0mdraw_idle\u001b[0m\u001b[0;34m(\u001b[0m\u001b[0;34m)\u001b[0m\u001b[0;34m\u001b[0m\u001b[0;34m\u001b[0m\u001b[0m\n\u001b[0m\u001b[1;32m    128\u001b[0m \u001b[0;34m\u001b[0m\u001b[0m\n\u001b[1;32m    129\u001b[0m \u001b[0matexit\u001b[0m\u001b[0;34m.\u001b[0m\u001b[0mregister\u001b[0m\u001b[0;34m(\u001b[0m\u001b[0mGcf\u001b[0m\u001b[0;34m.\u001b[0m\u001b[0mdestroy_all\u001b[0m\u001b[0;34m)\u001b[0m\u001b[0;34m\u001b[0m\u001b[0;34m\u001b[0m\u001b[0m\n",
            "\u001b[0;32m/usr/local/lib/python3.7/dist-packages/matplotlib/backend_bases.py\u001b[0m in \u001b[0;36mdraw_idle\u001b[0;34m(self, *args, **kwargs)\u001b[0m\n\u001b[1;32m   1945\u001b[0m         \u001b[0;32mif\u001b[0m \u001b[0;32mnot\u001b[0m \u001b[0mself\u001b[0m\u001b[0;34m.\u001b[0m\u001b[0m_is_idle_drawing\u001b[0m\u001b[0;34m:\u001b[0m\u001b[0;34m\u001b[0m\u001b[0;34m\u001b[0m\u001b[0m\n\u001b[1;32m   1946\u001b[0m             \u001b[0;32mwith\u001b[0m \u001b[0mself\u001b[0m\u001b[0;34m.\u001b[0m\u001b[0m_idle_draw_cntx\u001b[0m\u001b[0;34m(\u001b[0m\u001b[0;34m)\u001b[0m\u001b[0;34m:\u001b[0m\u001b[0;34m\u001b[0m\u001b[0;34m\u001b[0m\u001b[0m\n\u001b[0;32m-> 1947\u001b[0;31m                 \u001b[0mself\u001b[0m\u001b[0;34m.\u001b[0m\u001b[0mdraw\u001b[0m\u001b[0;34m(\u001b[0m\u001b[0;34m*\u001b[0m\u001b[0margs\u001b[0m\u001b[0;34m,\u001b[0m \u001b[0;34m**\u001b[0m\u001b[0mkwargs\u001b[0m\u001b[0;34m)\u001b[0m\u001b[0;34m\u001b[0m\u001b[0;34m\u001b[0m\u001b[0m\n\u001b[0m\u001b[1;32m   1948\u001b[0m \u001b[0;34m\u001b[0m\u001b[0m\n\u001b[1;32m   1949\u001b[0m     \u001b[0;34m@\u001b[0m\u001b[0mcbook\u001b[0m\u001b[0;34m.\u001b[0m\u001b[0mdeprecated\u001b[0m\u001b[0;34m(\u001b[0m\u001b[0;34m\"3.2\"\u001b[0m\u001b[0;34m)\u001b[0m\u001b[0;34m\u001b[0m\u001b[0;34m\u001b[0m\u001b[0m\n",
            "\u001b[0;32m/usr/local/lib/python3.7/dist-packages/matplotlib/backends/backend_agg.py\u001b[0m in \u001b[0;36mdraw\u001b[0;34m(self)\u001b[0m\n\u001b[1;32m    391\u001b[0m              (self.toolbar._wait_cursor_for_draw_cm() if self.toolbar\n\u001b[1;32m    392\u001b[0m               else nullcontext()):\n\u001b[0;32m--> 393\u001b[0;31m             \u001b[0mself\u001b[0m\u001b[0;34m.\u001b[0m\u001b[0mfigure\u001b[0m\u001b[0;34m.\u001b[0m\u001b[0mdraw\u001b[0m\u001b[0;34m(\u001b[0m\u001b[0mself\u001b[0m\u001b[0;34m.\u001b[0m\u001b[0mrenderer\u001b[0m\u001b[0;34m)\u001b[0m\u001b[0;34m\u001b[0m\u001b[0;34m\u001b[0m\u001b[0m\n\u001b[0m\u001b[1;32m    394\u001b[0m             \u001b[0;31m# A GUI class may be need to update a window using this draw, so\u001b[0m\u001b[0;34m\u001b[0m\u001b[0;34m\u001b[0m\u001b[0;34m\u001b[0m\u001b[0m\n\u001b[1;32m    395\u001b[0m             \u001b[0;31m# don't forget to call the superclass.\u001b[0m\u001b[0;34m\u001b[0m\u001b[0;34m\u001b[0m\u001b[0;34m\u001b[0m\u001b[0m\n",
            "\u001b[0;32m/usr/local/lib/python3.7/dist-packages/matplotlib/artist.py\u001b[0m in \u001b[0;36mdraw_wrapper\u001b[0;34m(artist, renderer, *args, **kwargs)\u001b[0m\n\u001b[1;32m     36\u001b[0m                 \u001b[0mrenderer\u001b[0m\u001b[0;34m.\u001b[0m\u001b[0mstart_filter\u001b[0m\u001b[0;34m(\u001b[0m\u001b[0;34m)\u001b[0m\u001b[0;34m\u001b[0m\u001b[0;34m\u001b[0m\u001b[0m\n\u001b[1;32m     37\u001b[0m \u001b[0;34m\u001b[0m\u001b[0m\n\u001b[0;32m---> 38\u001b[0;31m             \u001b[0;32mreturn\u001b[0m \u001b[0mdraw\u001b[0m\u001b[0;34m(\u001b[0m\u001b[0martist\u001b[0m\u001b[0;34m,\u001b[0m \u001b[0mrenderer\u001b[0m\u001b[0;34m,\u001b[0m \u001b[0;34m*\u001b[0m\u001b[0margs\u001b[0m\u001b[0;34m,\u001b[0m \u001b[0;34m**\u001b[0m\u001b[0mkwargs\u001b[0m\u001b[0;34m)\u001b[0m\u001b[0;34m\u001b[0m\u001b[0;34m\u001b[0m\u001b[0m\n\u001b[0m\u001b[1;32m     39\u001b[0m         \u001b[0;32mfinally\u001b[0m\u001b[0;34m:\u001b[0m\u001b[0;34m\u001b[0m\u001b[0;34m\u001b[0m\u001b[0m\n\u001b[1;32m     40\u001b[0m             \u001b[0;32mif\u001b[0m \u001b[0martist\u001b[0m\u001b[0;34m.\u001b[0m\u001b[0mget_agg_filter\u001b[0m\u001b[0;34m(\u001b[0m\u001b[0;34m)\u001b[0m \u001b[0;32mis\u001b[0m \u001b[0;32mnot\u001b[0m \u001b[0;32mNone\u001b[0m\u001b[0;34m:\u001b[0m\u001b[0;34m\u001b[0m\u001b[0;34m\u001b[0m\u001b[0m\n",
            "\u001b[0;32m/usr/local/lib/python3.7/dist-packages/matplotlib/figure.py\u001b[0m in \u001b[0;36mdraw\u001b[0;34m(self, renderer)\u001b[0m\n\u001b[1;32m   1734\u001b[0m             \u001b[0mself\u001b[0m\u001b[0;34m.\u001b[0m\u001b[0mpatch\u001b[0m\u001b[0;34m.\u001b[0m\u001b[0mdraw\u001b[0m\u001b[0;34m(\u001b[0m\u001b[0mrenderer\u001b[0m\u001b[0;34m)\u001b[0m\u001b[0;34m\u001b[0m\u001b[0;34m\u001b[0m\u001b[0m\n\u001b[1;32m   1735\u001b[0m             mimage._draw_list_compositing_images(\n\u001b[0;32m-> 1736\u001b[0;31m                 renderer, self, artists, self.suppressComposite)\n\u001b[0m\u001b[1;32m   1737\u001b[0m \u001b[0;34m\u001b[0m\u001b[0m\n\u001b[1;32m   1738\u001b[0m             \u001b[0mrenderer\u001b[0m\u001b[0;34m.\u001b[0m\u001b[0mclose_group\u001b[0m\u001b[0;34m(\u001b[0m\u001b[0;34m'figure'\u001b[0m\u001b[0;34m)\u001b[0m\u001b[0;34m\u001b[0m\u001b[0;34m\u001b[0m\u001b[0m\n",
            "\u001b[0;32m/usr/local/lib/python3.7/dist-packages/matplotlib/image.py\u001b[0m in \u001b[0;36m_draw_list_compositing_images\u001b[0;34m(renderer, parent, artists, suppress_composite)\u001b[0m\n\u001b[1;32m    135\u001b[0m     \u001b[0;32mif\u001b[0m \u001b[0mnot_composite\u001b[0m \u001b[0;32mor\u001b[0m \u001b[0;32mnot\u001b[0m \u001b[0mhas_images\u001b[0m\u001b[0;34m:\u001b[0m\u001b[0;34m\u001b[0m\u001b[0;34m\u001b[0m\u001b[0m\n\u001b[1;32m    136\u001b[0m         \u001b[0;32mfor\u001b[0m \u001b[0ma\u001b[0m \u001b[0;32min\u001b[0m \u001b[0martists\u001b[0m\u001b[0;34m:\u001b[0m\u001b[0;34m\u001b[0m\u001b[0;34m\u001b[0m\u001b[0m\n\u001b[0;32m--> 137\u001b[0;31m             \u001b[0ma\u001b[0m\u001b[0;34m.\u001b[0m\u001b[0mdraw\u001b[0m\u001b[0;34m(\u001b[0m\u001b[0mrenderer\u001b[0m\u001b[0;34m)\u001b[0m\u001b[0;34m\u001b[0m\u001b[0;34m\u001b[0m\u001b[0m\n\u001b[0m\u001b[1;32m    138\u001b[0m     \u001b[0;32melse\u001b[0m\u001b[0;34m:\u001b[0m\u001b[0;34m\u001b[0m\u001b[0;34m\u001b[0m\u001b[0m\n\u001b[1;32m    139\u001b[0m         \u001b[0;31m# Composite any adjacent images together\u001b[0m\u001b[0;34m\u001b[0m\u001b[0;34m\u001b[0m\u001b[0;34m\u001b[0m\u001b[0m\n",
            "\u001b[0;32m/usr/local/lib/python3.7/dist-packages/matplotlib/artist.py\u001b[0m in \u001b[0;36mdraw_wrapper\u001b[0;34m(artist, renderer, *args, **kwargs)\u001b[0m\n\u001b[1;32m     36\u001b[0m                 \u001b[0mrenderer\u001b[0m\u001b[0;34m.\u001b[0m\u001b[0mstart_filter\u001b[0m\u001b[0;34m(\u001b[0m\u001b[0;34m)\u001b[0m\u001b[0;34m\u001b[0m\u001b[0;34m\u001b[0m\u001b[0m\n\u001b[1;32m     37\u001b[0m \u001b[0;34m\u001b[0m\u001b[0m\n\u001b[0;32m---> 38\u001b[0;31m             \u001b[0;32mreturn\u001b[0m \u001b[0mdraw\u001b[0m\u001b[0;34m(\u001b[0m\u001b[0martist\u001b[0m\u001b[0;34m,\u001b[0m \u001b[0mrenderer\u001b[0m\u001b[0;34m,\u001b[0m \u001b[0;34m*\u001b[0m\u001b[0margs\u001b[0m\u001b[0;34m,\u001b[0m \u001b[0;34m**\u001b[0m\u001b[0mkwargs\u001b[0m\u001b[0;34m)\u001b[0m\u001b[0;34m\u001b[0m\u001b[0;34m\u001b[0m\u001b[0m\n\u001b[0m\u001b[1;32m     39\u001b[0m         \u001b[0;32mfinally\u001b[0m\u001b[0;34m:\u001b[0m\u001b[0;34m\u001b[0m\u001b[0;34m\u001b[0m\u001b[0m\n\u001b[1;32m     40\u001b[0m             \u001b[0;32mif\u001b[0m \u001b[0martist\u001b[0m\u001b[0;34m.\u001b[0m\u001b[0mget_agg_filter\u001b[0m\u001b[0;34m(\u001b[0m\u001b[0;34m)\u001b[0m \u001b[0;32mis\u001b[0m \u001b[0;32mnot\u001b[0m \u001b[0;32mNone\u001b[0m\u001b[0;34m:\u001b[0m\u001b[0;34m\u001b[0m\u001b[0;34m\u001b[0m\u001b[0m\n",
            "\u001b[0;32m/usr/local/lib/python3.7/dist-packages/matplotlib/axes/_base.py\u001b[0m in \u001b[0;36mdraw\u001b[0;34m(self, renderer, inframe)\u001b[0m\n\u001b[1;32m   2628\u001b[0m             \u001b[0mrenderer\u001b[0m\u001b[0;34m.\u001b[0m\u001b[0mstop_rasterizing\u001b[0m\u001b[0;34m(\u001b[0m\u001b[0;34m)\u001b[0m\u001b[0;34m\u001b[0m\u001b[0;34m\u001b[0m\u001b[0m\n\u001b[1;32m   2629\u001b[0m \u001b[0;34m\u001b[0m\u001b[0m\n\u001b[0;32m-> 2630\u001b[0;31m         \u001b[0mmimage\u001b[0m\u001b[0;34m.\u001b[0m\u001b[0m_draw_list_compositing_images\u001b[0m\u001b[0;34m(\u001b[0m\u001b[0mrenderer\u001b[0m\u001b[0;34m,\u001b[0m \u001b[0mself\u001b[0m\u001b[0;34m,\u001b[0m \u001b[0martists\u001b[0m\u001b[0;34m)\u001b[0m\u001b[0;34m\u001b[0m\u001b[0;34m\u001b[0m\u001b[0m\n\u001b[0m\u001b[1;32m   2631\u001b[0m \u001b[0;34m\u001b[0m\u001b[0m\n\u001b[1;32m   2632\u001b[0m         \u001b[0mrenderer\u001b[0m\u001b[0;34m.\u001b[0m\u001b[0mclose_group\u001b[0m\u001b[0;34m(\u001b[0m\u001b[0;34m'axes'\u001b[0m\u001b[0;34m)\u001b[0m\u001b[0;34m\u001b[0m\u001b[0;34m\u001b[0m\u001b[0m\n",
            "\u001b[0;32m/usr/local/lib/python3.7/dist-packages/matplotlib/image.py\u001b[0m in \u001b[0;36m_draw_list_compositing_images\u001b[0;34m(renderer, parent, artists, suppress_composite)\u001b[0m\n\u001b[1;32m    135\u001b[0m     \u001b[0;32mif\u001b[0m \u001b[0mnot_composite\u001b[0m \u001b[0;32mor\u001b[0m \u001b[0;32mnot\u001b[0m \u001b[0mhas_images\u001b[0m\u001b[0;34m:\u001b[0m\u001b[0;34m\u001b[0m\u001b[0;34m\u001b[0m\u001b[0m\n\u001b[1;32m    136\u001b[0m         \u001b[0;32mfor\u001b[0m \u001b[0ma\u001b[0m \u001b[0;32min\u001b[0m \u001b[0martists\u001b[0m\u001b[0;34m:\u001b[0m\u001b[0;34m\u001b[0m\u001b[0;34m\u001b[0m\u001b[0m\n\u001b[0;32m--> 137\u001b[0;31m             \u001b[0ma\u001b[0m\u001b[0;34m.\u001b[0m\u001b[0mdraw\u001b[0m\u001b[0;34m(\u001b[0m\u001b[0mrenderer\u001b[0m\u001b[0;34m)\u001b[0m\u001b[0;34m\u001b[0m\u001b[0;34m\u001b[0m\u001b[0m\n\u001b[0m\u001b[1;32m    138\u001b[0m     \u001b[0;32melse\u001b[0m\u001b[0;34m:\u001b[0m\u001b[0;34m\u001b[0m\u001b[0;34m\u001b[0m\u001b[0m\n\u001b[1;32m    139\u001b[0m         \u001b[0;31m# Composite any adjacent images together\u001b[0m\u001b[0;34m\u001b[0m\u001b[0;34m\u001b[0m\u001b[0;34m\u001b[0m\u001b[0m\n",
            "\u001b[0;32m/usr/local/lib/python3.7/dist-packages/matplotlib/artist.py\u001b[0m in \u001b[0;36mdraw_wrapper\u001b[0;34m(artist, renderer, *args, **kwargs)\u001b[0m\n\u001b[1;32m     36\u001b[0m                 \u001b[0mrenderer\u001b[0m\u001b[0;34m.\u001b[0m\u001b[0mstart_filter\u001b[0m\u001b[0;34m(\u001b[0m\u001b[0;34m)\u001b[0m\u001b[0;34m\u001b[0m\u001b[0;34m\u001b[0m\u001b[0m\n\u001b[1;32m     37\u001b[0m \u001b[0;34m\u001b[0m\u001b[0m\n\u001b[0;32m---> 38\u001b[0;31m             \u001b[0;32mreturn\u001b[0m \u001b[0mdraw\u001b[0m\u001b[0;34m(\u001b[0m\u001b[0martist\u001b[0m\u001b[0;34m,\u001b[0m \u001b[0mrenderer\u001b[0m\u001b[0;34m,\u001b[0m \u001b[0;34m*\u001b[0m\u001b[0margs\u001b[0m\u001b[0;34m,\u001b[0m \u001b[0;34m**\u001b[0m\u001b[0mkwargs\u001b[0m\u001b[0;34m)\u001b[0m\u001b[0;34m\u001b[0m\u001b[0;34m\u001b[0m\u001b[0m\n\u001b[0m\u001b[1;32m     39\u001b[0m         \u001b[0;32mfinally\u001b[0m\u001b[0;34m:\u001b[0m\u001b[0;34m\u001b[0m\u001b[0;34m\u001b[0m\u001b[0m\n\u001b[1;32m     40\u001b[0m             \u001b[0;32mif\u001b[0m \u001b[0martist\u001b[0m\u001b[0;34m.\u001b[0m\u001b[0mget_agg_filter\u001b[0m\u001b[0;34m(\u001b[0m\u001b[0;34m)\u001b[0m \u001b[0;32mis\u001b[0m \u001b[0;32mnot\u001b[0m \u001b[0;32mNone\u001b[0m\u001b[0;34m:\u001b[0m\u001b[0;34m\u001b[0m\u001b[0;34m\u001b[0m\u001b[0m\n",
            "\u001b[0;32m/usr/local/lib/python3.7/dist-packages/matplotlib/collections.py\u001b[0m in \u001b[0;36mdraw\u001b[0;34m(self, renderer)\u001b[0m\n\u001b[1;32m    892\u001b[0m     \u001b[0;32mdef\u001b[0m \u001b[0mdraw\u001b[0m\u001b[0;34m(\u001b[0m\u001b[0mself\u001b[0m\u001b[0;34m,\u001b[0m \u001b[0mrenderer\u001b[0m\u001b[0;34m)\u001b[0m\u001b[0;34m:\u001b[0m\u001b[0;34m\u001b[0m\u001b[0;34m\u001b[0m\u001b[0m\n\u001b[1;32m    893\u001b[0m         \u001b[0mself\u001b[0m\u001b[0;34m.\u001b[0m\u001b[0mset_sizes\u001b[0m\u001b[0;34m(\u001b[0m\u001b[0mself\u001b[0m\u001b[0;34m.\u001b[0m\u001b[0m_sizes\u001b[0m\u001b[0;34m,\u001b[0m \u001b[0mself\u001b[0m\u001b[0;34m.\u001b[0m\u001b[0mfigure\u001b[0m\u001b[0;34m.\u001b[0m\u001b[0mdpi\u001b[0m\u001b[0;34m)\u001b[0m\u001b[0;34m\u001b[0m\u001b[0;34m\u001b[0m\u001b[0m\n\u001b[0;32m--> 894\u001b[0;31m         \u001b[0mCollection\u001b[0m\u001b[0;34m.\u001b[0m\u001b[0mdraw\u001b[0m\u001b[0;34m(\u001b[0m\u001b[0mself\u001b[0m\u001b[0;34m,\u001b[0m \u001b[0mrenderer\u001b[0m\u001b[0;34m)\u001b[0m\u001b[0;34m\u001b[0m\u001b[0;34m\u001b[0m\u001b[0m\n\u001b[0m\u001b[1;32m    895\u001b[0m \u001b[0;34m\u001b[0m\u001b[0m\n\u001b[1;32m    896\u001b[0m \u001b[0;34m\u001b[0m\u001b[0m\n",
            "\u001b[0;32m/usr/local/lib/python3.7/dist-packages/matplotlib/artist.py\u001b[0m in \u001b[0;36mdraw_wrapper\u001b[0;34m(artist, renderer, *args, **kwargs)\u001b[0m\n\u001b[1;32m     36\u001b[0m                 \u001b[0mrenderer\u001b[0m\u001b[0;34m.\u001b[0m\u001b[0mstart_filter\u001b[0m\u001b[0;34m(\u001b[0m\u001b[0;34m)\u001b[0m\u001b[0;34m\u001b[0m\u001b[0;34m\u001b[0m\u001b[0m\n\u001b[1;32m     37\u001b[0m \u001b[0;34m\u001b[0m\u001b[0m\n\u001b[0;32m---> 38\u001b[0;31m             \u001b[0;32mreturn\u001b[0m \u001b[0mdraw\u001b[0m\u001b[0;34m(\u001b[0m\u001b[0martist\u001b[0m\u001b[0;34m,\u001b[0m \u001b[0mrenderer\u001b[0m\u001b[0;34m,\u001b[0m \u001b[0;34m*\u001b[0m\u001b[0margs\u001b[0m\u001b[0;34m,\u001b[0m \u001b[0;34m**\u001b[0m\u001b[0mkwargs\u001b[0m\u001b[0;34m)\u001b[0m\u001b[0;34m\u001b[0m\u001b[0;34m\u001b[0m\u001b[0m\n\u001b[0m\u001b[1;32m     39\u001b[0m         \u001b[0;32mfinally\u001b[0m\u001b[0;34m:\u001b[0m\u001b[0;34m\u001b[0m\u001b[0;34m\u001b[0m\u001b[0m\n\u001b[1;32m     40\u001b[0m             \u001b[0;32mif\u001b[0m \u001b[0martist\u001b[0m\u001b[0;34m.\u001b[0m\u001b[0mget_agg_filter\u001b[0m\u001b[0;34m(\u001b[0m\u001b[0;34m)\u001b[0m \u001b[0;32mis\u001b[0m \u001b[0;32mnot\u001b[0m \u001b[0;32mNone\u001b[0m\u001b[0;34m:\u001b[0m\u001b[0;34m\u001b[0m\u001b[0;34m\u001b[0m\u001b[0m\n",
            "\u001b[0;32m/usr/local/lib/python3.7/dist-packages/matplotlib/collections.py\u001b[0m in \u001b[0;36mdraw\u001b[0;34m(self, renderer)\u001b[0m\n\u001b[1;32m    367\u001b[0m                 \u001b[0mself\u001b[0m\u001b[0;34m.\u001b[0m\u001b[0m_linewidths\u001b[0m\u001b[0;34m,\u001b[0m \u001b[0mself\u001b[0m\u001b[0;34m.\u001b[0m\u001b[0m_linestyles\u001b[0m\u001b[0;34m,\u001b[0m\u001b[0;34m\u001b[0m\u001b[0;34m\u001b[0m\u001b[0m\n\u001b[1;32m    368\u001b[0m                 \u001b[0mself\u001b[0m\u001b[0;34m.\u001b[0m\u001b[0m_antialiaseds\u001b[0m\u001b[0;34m,\u001b[0m \u001b[0mself\u001b[0m\u001b[0;34m.\u001b[0m\u001b[0m_urls\u001b[0m\u001b[0;34m,\u001b[0m\u001b[0;34m\u001b[0m\u001b[0;34m\u001b[0m\u001b[0m\n\u001b[0;32m--> 369\u001b[0;31m                 self._offset_position)\n\u001b[0m\u001b[1;32m    370\u001b[0m \u001b[0;34m\u001b[0m\u001b[0m\n\u001b[1;32m    371\u001b[0m         \u001b[0mgc\u001b[0m\u001b[0;34m.\u001b[0m\u001b[0mrestore\u001b[0m\u001b[0;34m(\u001b[0m\u001b[0;34m)\u001b[0m\u001b[0;34m\u001b[0m\u001b[0;34m\u001b[0m\u001b[0m\n",
            "\u001b[0;32m/usr/local/lib/python3.7/dist-packages/matplotlib/path.py\u001b[0m in \u001b[0;36mvertices\u001b[0;34m(self)\u001b[0m\n\u001b[1;32m    195\u001b[0m         )\n\u001b[1;32m    196\u001b[0m \u001b[0;34m\u001b[0m\u001b[0m\n\u001b[0;32m--> 197\u001b[0;31m     \u001b[0;34m@\u001b[0m\u001b[0mproperty\u001b[0m\u001b[0;34m\u001b[0m\u001b[0;34m\u001b[0m\u001b[0m\n\u001b[0m\u001b[1;32m    198\u001b[0m     \u001b[0;32mdef\u001b[0m \u001b[0mvertices\u001b[0m\u001b[0;34m(\u001b[0m\u001b[0mself\u001b[0m\u001b[0;34m)\u001b[0m\u001b[0;34m:\u001b[0m\u001b[0;34m\u001b[0m\u001b[0;34m\u001b[0m\u001b[0m\n\u001b[1;32m    199\u001b[0m         \"\"\"\n",
            "\u001b[0;31mKeyboardInterrupt\u001b[0m: "
          ]
        }
      ],
      "source": [
        "pd.plotting.scatter_matrix(df[numerical_variables], figsize=(30, 30));"
      ]
    },
    {
      "cell_type": "markdown",
      "metadata": {
        "id": "_o87XvPfsbxo"
      },
      "source": [
        "# 6. Model Trainings"
      ]
    },
    {
      "cell_type": "markdown",
      "metadata": {
        "id": "O4O6jsq31o8E"
      },
      "source": [
        "## 6.1 Train, Validation, Test datasets extraction"
      ]
    },
    {
      "cell_type": "code",
      "execution_count": 37,
      "metadata": {
        "id": "La1zphhosfDH"
      },
      "outputs": [],
      "source": [
        "full_train, test = train_test_split(df, test_size=0.2, shuffle=True, random_state=11)\n",
        "train, validation = train_test_split(full_train, test_size=0.25, shuffle=True, random_state=11)"
      ]
    },
    {
      "cell_type": "code",
      "execution_count": 38,
      "metadata": {
        "colab": {
          "base_uri": "https://localhost:8080/"
        },
        "id": "x-HcCCcg2Bed",
        "outputId": "5a2291ff-1058-4455-a11c-96c6be7ea259"
      },
      "outputs": [
        {
          "data": {
            "text/plain": [
              "(142193, 85315, 28439, 28439)"
            ]
          },
          "execution_count": 38,
          "metadata": {},
          "output_type": "execute_result"
        }
      ],
      "source": [
        "len(df), len(train), len(validation), len(test)"
      ]
    },
    {
      "cell_type": "code",
      "execution_count": 39,
      "metadata": {
        "id": "1P8WDNpH3EyU"
      },
      "outputs": [],
      "source": [
        "train = train.reset_index(drop=True)\n",
        "validation = validation.reset_index(drop=True)\n",
        "test = test.reset_index(drop=True)\n",
        "full_train = full_train.reset_index(drop=True)"
      ]
    },
    {
      "cell_type": "code",
      "execution_count": 40,
      "metadata": {
        "id": "YbIeA3YD2H5q"
      },
      "outputs": [],
      "source": [
        "y_train = train['raintomorrow'].values\n",
        "y_val = validation['raintomorrow'].values\n",
        "y_test = test['raintomorrow'].values\n",
        "y_full_train = full_train['raintomorrow'].values"
      ]
    },
    {
      "cell_type": "code",
      "execution_count": 41,
      "metadata": {
        "id": "knegYbNE2dWJ"
      },
      "outputs": [],
      "source": [
        "del train['raintomorrow']\n",
        "del validation['raintomorrow']\n",
        "del test['raintomorrow']\n",
        "del full_train['raintomorrow']"
      ]
    },
    {
      "cell_type": "markdown",
      "metadata": {
        "id": "ezAURnKG-IVQ"
      },
      "source": [
        "## 6.2 One-hot encoding"
      ]
    },
    {
      "cell_type": "code",
      "execution_count": 160,
      "metadata": {
        "id": "CHl1EwYx3duo"
      },
      "outputs": [],
      "source": [
        "dv = DictVectorizer(sparse=False)\n",
        "\n",
        "X_train = dv.fit_transform(train.to_dict(orient='records'))\n",
        "X_val = dv.transform(validation.to_dict(orient='records'))"
      ]
    },
    {
      "cell_type": "code",
      "execution_count": 161,
      "metadata": {
        "id": "MdwhYviBg3J9"
      },
      "outputs": [],
      "source": [
        "dv2 = DictVectorizer(sparse=False)\n",
        "\n",
        "X_full_train = dv2.fit_transform(full_train.to_dict(orient='records'))\n",
        "X_test = dv2.transform(test.to_dict(orient='records'))"
      ]
    },
    {
      "cell_type": "code",
      "execution_count": 162,
      "metadata": {
        "colab": {
          "base_uri": "https://localhost:8080/"
        },
        "id": "sh0L3_e_inpz",
        "outputId": "b80e3a09-320a-4bd1-b9c0-5646c5c95f2c"
      },
      "outputs": [
        {
          "data": {
            "text/plain": [
              "(115, 115)"
            ]
          },
          "execution_count": 162,
          "metadata": {},
          "output_type": "execute_result"
        }
      ],
      "source": [
        "len(dv.get_feature_names()), len(dv.get_feature_names())"
      ]
    },
    {
      "cell_type": "markdown",
      "metadata": {
        "id": "NUyPQJoyCXsJ"
      },
      "source": [
        "## 6.3 Logistic Regression Model"
      ]
    },
    {
      "cell_type": "code",
      "execution_count": 45,
      "metadata": {
        "id": "mU7nFZlilhmy"
      },
      "outputs": [],
      "source": [
        "evaluation_metrics = pd.DataFrame({'Logistic_Regression_val': [0,0,0,0], 'Decision_Tree_val': [0,0,0,0], 'Random_Forest_val': [0,0,0,0], \n",
        "                                   'Logistic_Regression_test': [0,0,0,0], 'Decision_Tree_test': [0,0,0,0], 'Random_Forest_test': [0,0,0,0]}, \n",
        "                                  dtype=np.float64,\n",
        "                                  index=['Accurecy', 'Precision', 'Recall', 'ROC_AUC'])"
      ]
    },
    {
      "cell_type": "code",
      "execution_count": 46,
      "metadata": {
        "id": "CBXAXS4brYi2"
      },
      "outputs": [],
      "source": [
        "def add_record_val(y_pred, where):\n",
        "  evaluation_metrics.loc['Accurecy', where] = accuracy_score(y_val, y_pred >= 0.5)\n",
        "  evaluation_metrics.loc['ROC_AUC', where] = roc_auc_score(y_val, y_pred)\n",
        "  evaluation_metrics.loc['Precision', where] = precision_score(y_val, y_pred >= 0.5)\n",
        "  evaluation_metrics.loc['Recall', where] = recall_score(y_val, y_pred >= 0.5)"
      ]
    },
    {
      "cell_type": "code",
      "execution_count": 47,
      "metadata": {
        "id": "fV_gobF_rkCm"
      },
      "outputs": [],
      "source": [
        "def add_record_test(y_pred_test, where):\n",
        "  evaluation_metrics.loc['Accurecy', where] = accuracy_score(y_test, y_pred_test >= 0.5)\n",
        "  evaluation_metrics.loc['ROC_AUC', where] = roc_auc_score(y_test, y_pred_test)\n",
        "  evaluation_metrics.loc['Precision', where] = precision_score(y_test, y_pred_test >= 0.5)\n",
        "  evaluation_metrics.loc['Recall', where] = recall_score(y_test, y_pred_test >= 0.5)"
      ]
    },
    {
      "cell_type": "markdown",
      "metadata": {
        "id": "C0jANYHuKdaE"
      },
      "source": [
        "### 6.3.1 Training and Validating the model"
      ]
    },
    {
      "cell_type": "code",
      "execution_count": 48,
      "metadata": {
        "colab": {
          "base_uri": "https://localhost:8080/"
        },
        "id": "_sRZTsn8_HKD",
        "outputId": "7fbb55e6-da15-4ec3-f703-01920ad0e88e"
      },
      "outputs": [
        {
          "data": {
            "text/plain": [
              "LogisticRegression(C=1.0, class_weight=None, dual=False, fit_intercept=True,\n",
              "                   intercept_scaling=1, l1_ratio=None, max_iter=1000,\n",
              "                   multi_class='auto', n_jobs=None, penalty='l2',\n",
              "                   random_state=11, solver='lbfgs', tol=0.0001, verbose=0,\n",
              "                   warm_start=False)"
            ]
          },
          "execution_count": 48,
          "metadata": {},
          "output_type": "execute_result"
        }
      ],
      "source": [
        "lr_model = LogisticRegression(solver='lbfgs', max_iter=1000, random_state=11)\n",
        "lr_model.fit(X_train, y_train)"
      ]
    },
    {
      "cell_type": "code",
      "execution_count": 49,
      "metadata": {
        "id": "Jddx2-HVHvq-"
      },
      "outputs": [],
      "source": [
        "y_pred = lr_model.predict_proba(X_val)[:, 1]"
      ]
    },
    {
      "cell_type": "code",
      "execution_count": 50,
      "metadata": {
        "id": "LXio3eBAnxYq"
      },
      "outputs": [],
      "source": [
        "add_record_val(y_pred, 'Logistic_Regression_val')"
      ]
    },
    {
      "cell_type": "markdown",
      "metadata": {
        "id": "0QnpkBYUKlNw"
      },
      "source": [
        "### 6.3.2 Testing the model"
      ]
    },
    {
      "cell_type": "code",
      "execution_count": 51,
      "metadata": {
        "colab": {
          "base_uri": "https://localhost:8080/"
        },
        "id": "yILNHUVaIc92",
        "outputId": "44a63203-06f0-441a-c20e-f59de84f30f5"
      },
      "outputs": [
        {
          "data": {
            "text/plain": [
              "LogisticRegression(C=1.0, class_weight=None, dual=False, fit_intercept=True,\n",
              "                   intercept_scaling=1, l1_ratio=None, max_iter=1000,\n",
              "                   multi_class='auto', n_jobs=None, penalty='l2',\n",
              "                   random_state=11, solver='lbfgs', tol=0.0001, verbose=0,\n",
              "                   warm_start=False)"
            ]
          },
          "execution_count": 51,
          "metadata": {},
          "output_type": "execute_result"
        }
      ],
      "source": [
        "lr_model_test = LogisticRegression(solver='lbfgs', max_iter=1000, random_state=11)\n",
        "lr_model_test.fit(X_full_train, y_full_train)"
      ]
    },
    {
      "cell_type": "code",
      "execution_count": 52,
      "metadata": {
        "id": "v3HO-2ZQLhBX"
      },
      "outputs": [],
      "source": [
        "y_pred_test = lr_model_test.predict_proba(X_test)[:, 1]"
      ]
    },
    {
      "cell_type": "code",
      "execution_count": 53,
      "metadata": {
        "id": "H3peO55OrMDK"
      },
      "outputs": [],
      "source": [
        "add_record_test(y_pred_test, 'Logistic_Regression_test')"
      ]
    },
    {
      "cell_type": "code",
      "execution_count": 54,
      "metadata": {
        "colab": {
          "base_uri": "https://localhost:8080/",
          "height": 173
        },
        "id": "UwlY8qRQs5Ss",
        "outputId": "27601029-ab3d-41a5-e8c1-7b935d70b6d8"
      },
      "outputs": [
        {
          "data": {
            "text/html": [
              "<div>\n",
              "<style scoped>\n",
              "    .dataframe tbody tr th:only-of-type {\n",
              "        vertical-align: middle;\n",
              "    }\n",
              "\n",
              "    .dataframe tbody tr th {\n",
              "        vertical-align: top;\n",
              "    }\n",
              "\n",
              "    .dataframe thead th {\n",
              "        text-align: right;\n",
              "    }\n",
              "</style>\n",
              "<table border=\"1\" class=\"dataframe\">\n",
              "  <thead>\n",
              "    <tr style=\"text-align: right;\">\n",
              "      <th></th>\n",
              "      <th>Logistic_Regression_val</th>\n",
              "      <th>Decision_Tree_val</th>\n",
              "      <th>Random_Forest_val</th>\n",
              "      <th>Logistic_Regression_test</th>\n",
              "      <th>Decision_Tree_test</th>\n",
              "      <th>Random_Forest_test</th>\n",
              "    </tr>\n",
              "  </thead>\n",
              "  <tbody>\n",
              "    <tr>\n",
              "      <th>Accurecy</th>\n",
              "      <td>0.888604</td>\n",
              "      <td>0.0</td>\n",
              "      <td>0.0</td>\n",
              "      <td>0.891874</td>\n",
              "      <td>0.0</td>\n",
              "      <td>0.0</td>\n",
              "    </tr>\n",
              "    <tr>\n",
              "      <th>Precision</th>\n",
              "      <td>0.781086</td>\n",
              "      <td>0.0</td>\n",
              "      <td>0.0</td>\n",
              "      <td>0.798067</td>\n",
              "      <td>0.0</td>\n",
              "      <td>0.0</td>\n",
              "    </tr>\n",
              "    <tr>\n",
              "      <th>Recall</th>\n",
              "      <td>0.699279</td>\n",
              "      <td>0.0</td>\n",
              "      <td>0.0</td>\n",
              "      <td>0.702180</td>\n",
              "      <td>0.0</td>\n",
              "      <td>0.0</td>\n",
              "    </tr>\n",
              "    <tr>\n",
              "      <th>ROC_AUC</th>\n",
              "      <td>0.927158</td>\n",
              "      <td>0.0</td>\n",
              "      <td>0.0</td>\n",
              "      <td>0.928902</td>\n",
              "      <td>0.0</td>\n",
              "      <td>0.0</td>\n",
              "    </tr>\n",
              "  </tbody>\n",
              "</table>\n",
              "</div>"
            ],
            "text/plain": [
              "           Logistic_Regression_val  ...  Random_Forest_test\n",
              "Accurecy                  0.888604  ...                 0.0\n",
              "Precision                 0.781086  ...                 0.0\n",
              "Recall                    0.699279  ...                 0.0\n",
              "ROC_AUC                   0.927158  ...                 0.0\n",
              "\n",
              "[4 rows x 6 columns]"
            ]
          },
          "execution_count": 54,
          "metadata": {},
          "output_type": "execute_result"
        }
      ],
      "source": [
        "evaluation_metrics"
      ]
    },
    {
      "cell_type": "markdown",
      "metadata": {
        "id": "rl2CN-tUa4zF"
      },
      "source": [
        "## 6.4 Decision Tree"
      ]
    },
    {
      "cell_type": "markdown",
      "metadata": {
        "id": "_Y14b1G5a9vo"
      },
      "source": [
        "### 6.4.1 Training and Validating the Model"
      ]
    },
    {
      "cell_type": "code",
      "execution_count": 73,
      "metadata": {
        "colab": {
          "base_uri": "https://localhost:8080/"
        },
        "id": "lOtOqSQiZy0O",
        "outputId": "03d4701d-7552-459a-8e35-acbb12ce5f3c"
      },
      "outputs": [
        {
          "data": {
            "text/plain": [
              "DecisionTreeClassifier(ccp_alpha=0.0, class_weight=None, criterion='gini',\n",
              "                       max_depth=None, max_features=None, max_leaf_nodes=None,\n",
              "                       min_impurity_decrease=0.0, min_impurity_split=None,\n",
              "                       min_samples_leaf=1, min_samples_split=2,\n",
              "                       min_weight_fraction_leaf=0.0, presort='deprecated',\n",
              "                       random_state=11, splitter='best')"
            ]
          },
          "execution_count": 73,
          "metadata": {},
          "output_type": "execute_result"
        }
      ],
      "source": [
        "dt_model = DecisionTreeClassifier(random_state=11)\n",
        "dt_model.fit(X_train, y_train)"
      ]
    },
    {
      "cell_type": "code",
      "execution_count": 74,
      "metadata": {
        "id": "0Ifr6VT8dnNf"
      },
      "outputs": [],
      "source": [
        "y_pred = dt_model.predict_proba(X_val)[:, 1]"
      ]
    },
    {
      "cell_type": "code",
      "execution_count": 76,
      "metadata": {
        "colab": {
          "base_uri": "https://localhost:8080/"
        },
        "id": "Mwi79au4tsz1",
        "outputId": "7783fb49-e8ee-4aab-cfce-71d212aa0326"
      },
      "outputs": [
        {
          "data": {
            "text/plain": [
              "0.8658089817922536"
            ]
          },
          "execution_count": 76,
          "metadata": {},
          "output_type": "execute_result"
        }
      ],
      "source": [
        "roc_auc_score(y_val, y_pred)"
      ]
    },
    {
      "cell_type": "markdown",
      "metadata": {
        "id": "dqhSh3Syt05T"
      },
      "source": [
        "### 6.4.2 Parameters Tunning"
      ]
    },
    {
      "cell_type": "code",
      "execution_count": 77,
      "metadata": {
        "colab": {
          "base_uri": "https://localhost:8080/"
        },
        "id": "Lny7DssohnAy",
        "outputId": "dcbe8597-4b23-4457-f094-3cc69552393c"
      },
      "outputs": [
        {
          "name": "stdout",
          "output_type": "stream",
          "text": [
            "   1 -> 0.83445\n",
            "   2 -> 0.91647\n",
            "   3 -> 0.94336\n",
            "   4 -> 0.95432\n",
            "   5 -> 0.95974\n",
            "   6 -> 0.96299\n",
            "  10 -> 0.96123\n",
            "  15 -> 0.91115\n",
            "  20 -> 0.87223\n",
            "  40 -> 0.86581\n",
            "  80 -> 0.86581\n",
            " 100 -> 0.86581\n",
            "None -> 0.86581\n"
          ]
        }
      ],
      "source": [
        "depths = [1, 2, 3, 4, 5, 6, 10, 15, 20, 40, 80, 100, None]\n",
        "\n",
        "for depth in depths: \n",
        "    dt_model = DecisionTreeClassifier(max_depth=depth, random_state=11)\n",
        "    dt_model.fit(X_train, y_train)\n",
        "    \n",
        "    y_pred = dt_model.predict_proba(X_val)[:, 1]\n",
        "    auc = roc_auc_score(y_val, y_pred)\n",
        "    \n",
        "    print('%4s -> %.5f' % (depth, auc))"
      ]
    },
    {
      "cell_type": "code",
      "execution_count": 78,
      "metadata": {
        "id": "pYyLSLoxryd9"
      },
      "outputs": [],
      "source": [
        "scores = []\n",
        "\n",
        "for depth in [3, 4, 5, 6, 10]:\n",
        "    for s in [1, 5, 10, 15, 20, 500, 100, 200]:\n",
        "        dt_model = DecisionTreeClassifier(max_depth=depth, min_samples_leaf=s, random_state=11)\n",
        "        dt_model.fit(X_train, y_train)\n",
        "\n",
        "        y_pred = dt_model.predict_proba(X_val)[:, 1]\n",
        "        auc = roc_auc_score(y_val, y_pred)\n",
        "        \n",
        "        scores.append((depth, s, auc))"
      ]
    },
    {
      "cell_type": "code",
      "execution_count": 79,
      "metadata": {
        "colab": {
          "base_uri": "https://localhost:8080/",
          "height": 1000
        },
        "id": "rBz4sNUUsCUS",
        "outputId": "ca9ee774-3430-48a7-db2e-6bfd22e93c61"
      },
      "outputs": [
        {
          "data": {
            "text/html": [
              "<div>\n",
              "<style scoped>\n",
              "    .dataframe tbody tr th:only-of-type {\n",
              "        vertical-align: middle;\n",
              "    }\n",
              "\n",
              "    .dataframe tbody tr th {\n",
              "        vertical-align: top;\n",
              "    }\n",
              "\n",
              "    .dataframe thead th {\n",
              "        text-align: right;\n",
              "    }\n",
              "</style>\n",
              "<table border=\"1\" class=\"dataframe\">\n",
              "  <thead>\n",
              "    <tr style=\"text-align: right;\">\n",
              "      <th></th>\n",
              "      <th>depth</th>\n",
              "      <th>minmum_leaf_samples</th>\n",
              "      <th>ROC_AUC</th>\n",
              "    </tr>\n",
              "  </thead>\n",
              "  <tbody>\n",
              "    <tr>\n",
              "      <th>0</th>\n",
              "      <td>3</td>\n",
              "      <td>1</td>\n",
              "      <td>0.943363</td>\n",
              "    </tr>\n",
              "    <tr>\n",
              "      <th>1</th>\n",
              "      <td>3</td>\n",
              "      <td>5</td>\n",
              "      <td>0.943363</td>\n",
              "    </tr>\n",
              "    <tr>\n",
              "      <th>2</th>\n",
              "      <td>3</td>\n",
              "      <td>10</td>\n",
              "      <td>0.943363</td>\n",
              "    </tr>\n",
              "    <tr>\n",
              "      <th>3</th>\n",
              "      <td>3</td>\n",
              "      <td>15</td>\n",
              "      <td>0.943363</td>\n",
              "    </tr>\n",
              "    <tr>\n",
              "      <th>4</th>\n",
              "      <td>3</td>\n",
              "      <td>20</td>\n",
              "      <td>0.943363</td>\n",
              "    </tr>\n",
              "    <tr>\n",
              "      <th>5</th>\n",
              "      <td>3</td>\n",
              "      <td>500</td>\n",
              "      <td>0.942888</td>\n",
              "    </tr>\n",
              "    <tr>\n",
              "      <th>6</th>\n",
              "      <td>3</td>\n",
              "      <td>100</td>\n",
              "      <td>0.943363</td>\n",
              "    </tr>\n",
              "    <tr>\n",
              "      <th>7</th>\n",
              "      <td>3</td>\n",
              "      <td>200</td>\n",
              "      <td>0.943363</td>\n",
              "    </tr>\n",
              "    <tr>\n",
              "      <th>8</th>\n",
              "      <td>4</td>\n",
              "      <td>1</td>\n",
              "      <td>0.954317</td>\n",
              "    </tr>\n",
              "    <tr>\n",
              "      <th>9</th>\n",
              "      <td>4</td>\n",
              "      <td>5</td>\n",
              "      <td>0.954317</td>\n",
              "    </tr>\n",
              "    <tr>\n",
              "      <th>10</th>\n",
              "      <td>4</td>\n",
              "      <td>10</td>\n",
              "      <td>0.954317</td>\n",
              "    </tr>\n",
              "    <tr>\n",
              "      <th>11</th>\n",
              "      <td>4</td>\n",
              "      <td>15</td>\n",
              "      <td>0.954317</td>\n",
              "    </tr>\n",
              "    <tr>\n",
              "      <th>12</th>\n",
              "      <td>4</td>\n",
              "      <td>20</td>\n",
              "      <td>0.954317</td>\n",
              "    </tr>\n",
              "    <tr>\n",
              "      <th>13</th>\n",
              "      <td>4</td>\n",
              "      <td>500</td>\n",
              "      <td>0.951831</td>\n",
              "    </tr>\n",
              "    <tr>\n",
              "      <th>14</th>\n",
              "      <td>4</td>\n",
              "      <td>100</td>\n",
              "      <td>0.954364</td>\n",
              "    </tr>\n",
              "    <tr>\n",
              "      <th>15</th>\n",
              "      <td>4</td>\n",
              "      <td>200</td>\n",
              "      <td>0.953948</td>\n",
              "    </tr>\n",
              "    <tr>\n",
              "      <th>16</th>\n",
              "      <td>5</td>\n",
              "      <td>1</td>\n",
              "      <td>0.959744</td>\n",
              "    </tr>\n",
              "    <tr>\n",
              "      <th>17</th>\n",
              "      <td>5</td>\n",
              "      <td>5</td>\n",
              "      <td>0.959744</td>\n",
              "    </tr>\n",
              "    <tr>\n",
              "      <th>18</th>\n",
              "      <td>5</td>\n",
              "      <td>10</td>\n",
              "      <td>0.959744</td>\n",
              "    </tr>\n",
              "    <tr>\n",
              "      <th>19</th>\n",
              "      <td>5</td>\n",
              "      <td>15</td>\n",
              "      <td>0.959768</td>\n",
              "    </tr>\n",
              "    <tr>\n",
              "      <th>20</th>\n",
              "      <td>5</td>\n",
              "      <td>20</td>\n",
              "      <td>0.959768</td>\n",
              "    </tr>\n",
              "    <tr>\n",
              "      <th>21</th>\n",
              "      <td>5</td>\n",
              "      <td>500</td>\n",
              "      <td>0.957163</td>\n",
              "    </tr>\n",
              "    <tr>\n",
              "      <th>22</th>\n",
              "      <td>5</td>\n",
              "      <td>100</td>\n",
              "      <td>0.959475</td>\n",
              "    </tr>\n",
              "    <tr>\n",
              "      <th>23</th>\n",
              "      <td>5</td>\n",
              "      <td>200</td>\n",
              "      <td>0.958903</td>\n",
              "    </tr>\n",
              "    <tr>\n",
              "      <th>24</th>\n",
              "      <td>6</td>\n",
              "      <td>1</td>\n",
              "      <td>0.962993</td>\n",
              "    </tr>\n",
              "    <tr>\n",
              "      <th>25</th>\n",
              "      <td>6</td>\n",
              "      <td>5</td>\n",
              "      <td>0.963034</td>\n",
              "    </tr>\n",
              "    <tr>\n",
              "      <th>26</th>\n",
              "      <td>6</td>\n",
              "      <td>10</td>\n",
              "      <td>0.963009</td>\n",
              "    </tr>\n",
              "    <tr>\n",
              "      <th>27</th>\n",
              "      <td>6</td>\n",
              "      <td>15</td>\n",
              "      <td>0.963079</td>\n",
              "    </tr>\n",
              "    <tr>\n",
              "      <th>28</th>\n",
              "      <td>6</td>\n",
              "      <td>20</td>\n",
              "      <td>0.963077</td>\n",
              "    </tr>\n",
              "    <tr>\n",
              "      <th>29</th>\n",
              "      <td>6</td>\n",
              "      <td>500</td>\n",
              "      <td>0.960565</td>\n",
              "    </tr>\n",
              "    <tr>\n",
              "      <th>30</th>\n",
              "      <td>6</td>\n",
              "      <td>100</td>\n",
              "      <td>0.962601</td>\n",
              "    </tr>\n",
              "    <tr>\n",
              "      <th>31</th>\n",
              "      <td>6</td>\n",
              "      <td>200</td>\n",
              "      <td>0.961906</td>\n",
              "    </tr>\n",
              "    <tr>\n",
              "      <th>32</th>\n",
              "      <td>10</td>\n",
              "      <td>1</td>\n",
              "      <td>0.961230</td>\n",
              "    </tr>\n",
              "    <tr>\n",
              "      <th>33</th>\n",
              "      <td>10</td>\n",
              "      <td>5</td>\n",
              "      <td>0.962763</td>\n",
              "    </tr>\n",
              "    <tr>\n",
              "      <th>34</th>\n",
              "      <td>10</td>\n",
              "      <td>10</td>\n",
              "      <td>0.965152</td>\n",
              "    </tr>\n",
              "    <tr>\n",
              "      <th>35</th>\n",
              "      <td>10</td>\n",
              "      <td>15</td>\n",
              "      <td>0.966019</td>\n",
              "    </tr>\n",
              "    <tr>\n",
              "      <th>36</th>\n",
              "      <td>10</td>\n",
              "      <td>20</td>\n",
              "      <td>0.966281</td>\n",
              "    </tr>\n",
              "    <tr>\n",
              "      <th>37</th>\n",
              "      <td>10</td>\n",
              "      <td>500</td>\n",
              "      <td>0.961999</td>\n",
              "    </tr>\n",
              "    <tr>\n",
              "      <th>38</th>\n",
              "      <td>10</td>\n",
              "      <td>100</td>\n",
              "      <td>0.966354</td>\n",
              "    </tr>\n",
              "    <tr>\n",
              "      <th>39</th>\n",
              "      <td>10</td>\n",
              "      <td>200</td>\n",
              "      <td>0.965436</td>\n",
              "    </tr>\n",
              "  </tbody>\n",
              "</table>\n",
              "</div>"
            ],
            "text/plain": [
              "    depth  minmum_leaf_samples   ROC_AUC\n",
              "0       3                    1  0.943363\n",
              "1       3                    5  0.943363\n",
              "2       3                   10  0.943363\n",
              "3       3                   15  0.943363\n",
              "4       3                   20  0.943363\n",
              "5       3                  500  0.942888\n",
              "6       3                  100  0.943363\n",
              "7       3                  200  0.943363\n",
              "8       4                    1  0.954317\n",
              "9       4                    5  0.954317\n",
              "10      4                   10  0.954317\n",
              "11      4                   15  0.954317\n",
              "12      4                   20  0.954317\n",
              "13      4                  500  0.951831\n",
              "14      4                  100  0.954364\n",
              "15      4                  200  0.953948\n",
              "16      5                    1  0.959744\n",
              "17      5                    5  0.959744\n",
              "18      5                   10  0.959744\n",
              "19      5                   15  0.959768\n",
              "20      5                   20  0.959768\n",
              "21      5                  500  0.957163\n",
              "22      5                  100  0.959475\n",
              "23      5                  200  0.958903\n",
              "24      6                    1  0.962993\n",
              "25      6                    5  0.963034\n",
              "26      6                   10  0.963009\n",
              "27      6                   15  0.963079\n",
              "28      6                   20  0.963077\n",
              "29      6                  500  0.960565\n",
              "30      6                  100  0.962601\n",
              "31      6                  200  0.961906\n",
              "32     10                    1  0.961230\n",
              "33     10                    5  0.962763\n",
              "34     10                   10  0.965152\n",
              "35     10                   15  0.966019\n",
              "36     10                   20  0.966281\n",
              "37     10                  500  0.961999\n",
              "38     10                  100  0.966354\n",
              "39     10                  200  0.965436"
            ]
          },
          "execution_count": 79,
          "metadata": {},
          "output_type": "execute_result"
        }
      ],
      "source": [
        "aggregation_results = pd.DataFrame(data=scores, columns=['depth', 'minmum_leaf_samples', 'ROC_AUC'])\n",
        "aggregation_results"
      ]
    },
    {
      "cell_type": "code",
      "execution_count": 80,
      "metadata": {
        "id": "2VqQGQwasej8"
      },
      "outputs": [],
      "source": [
        "pivot_table = aggregation_results.pivot(index='depth', columns=['minmum_leaf_samples'], values=['ROC_AUC'])"
      ]
    },
    {
      "cell_type": "code",
      "execution_count": 81,
      "metadata": {
        "colab": {
          "base_uri": "https://localhost:8080/",
          "height": 624
        },
        "id": "JnBNsP5TtB0H",
        "outputId": "1e89a2ab-ebfe-408a-95ef-382e467b0c6a"
      },
      "outputs": [
        {
          "data": {
            "text/plain": [
              "<matplotlib.axes._subplots.AxesSubplot at 0x7f717c7be890>"
            ]
          },
          "execution_count": 81,
          "metadata": {},
          "output_type": "execute_result"
        },
        {
          "data": {
            "image/png": "[encoded data removed]",
            "text/plain": [
              "<Figure size 1080x720 with 2 Axes>"
            ]
          },
          "metadata": {
            "needs_background": "light"
          },
          "output_type": "display_data"
        }
      ],
      "source": [
        "fig, ax = plt.subplots(figsize=(15,10)) \n",
        "sns.heatmap(pivot_table, annot=True, ax=ax)"
      ]
    },
    {
      "cell_type": "code",
      "execution_count": 82,
      "metadata": {
        "colab": {
          "base_uri": "https://localhost:8080/"
        },
        "id": "G5QrA4E7uONJ",
        "outputId": "46ee3ef7-81c2-4cd0-94c1-892300895ad2"
      },
      "outputs": [
        {
          "data": {
            "text/plain": [
              "DecisionTreeClassifier(ccp_alpha=0.0, class_weight=None, criterion='gini',\n",
              "                       max_depth=10, max_features=None, max_leaf_nodes=None,\n",
              "                       min_impurity_decrease=0.0, min_impurity_split=None,\n",
              "                       min_samples_leaf=100, min_samples_split=2,\n",
              "                       min_weight_fraction_leaf=0.0, presort='deprecated',\n",
              "                       random_state=None, splitter='best')"
            ]
          },
          "execution_count": 82,
          "metadata": {},
          "output_type": "execute_result"
        }
      ],
      "source": [
        "dt_model = DecisionTreeClassifier(max_depth=10, min_samples_leaf=100)\n",
        "dt_model.fit(X_train, y_train)"
      ]
    },
    {
      "cell_type": "code",
      "execution_count": 83,
      "metadata": {
        "id": "m8qlL1DauWt9"
      },
      "outputs": [],
      "source": [
        "y_pred = dt_model.predict_proba(X_val)[:, 1]"
      ]
    },
    {
      "cell_type": "code",
      "execution_count": 84,
      "metadata": {
        "id": "WfD2Xe5Yuey8"
      },
      "outputs": [],
      "source": [
        "add_record_val(y_pred, 'Decision_Tree_val')"
      ]
    },
    {
      "cell_type": "markdown",
      "metadata": {
        "id": "A5rBx0eiu122"
      },
      "source": [
        "### 6.4.3 Testing The model"
      ]
    },
    {
      "cell_type": "code",
      "execution_count": 85,
      "metadata": {
        "colab": {
          "base_uri": "https://localhost:8080/"
        },
        "id": "J4qtJ_byu8iU",
        "outputId": "a279d703-9f3e-45bb-d6a5-4e1c1cbf37d5"
      },
      "outputs": [
        {
          "data": {
            "text/plain": [
              "DecisionTreeClassifier(ccp_alpha=0.0, class_weight=None, criterion='gini',\n",
              "                       max_depth=10, max_features=None, max_leaf_nodes=None,\n",
              "                       min_impurity_decrease=0.0, min_impurity_split=None,\n",
              "                       min_samples_leaf=100, min_samples_split=2,\n",
              "                       min_weight_fraction_leaf=0.0, presort='deprecated',\n",
              "                       random_state=11, splitter='best')"
            ]
          },
          "execution_count": 85,
          "metadata": {},
          "output_type": "execute_result"
        }
      ],
      "source": [
        "dt_model_test = DecisionTreeClassifier(max_depth=10, min_samples_leaf=100, random_state=11)\n",
        "dt_model_test.fit(X_full_train, y_full_train)"
      ]
    },
    {
      "cell_type": "code",
      "execution_count": 86,
      "metadata": {
        "id": "Tbb3cQ44vaU3"
      },
      "outputs": [],
      "source": [
        "y_pred_test = dt_model_test.predict_proba(X_test)[:, 1]"
      ]
    },
    {
      "cell_type": "code",
      "execution_count": 87,
      "metadata": {
        "id": "okIyfqWGvjOf"
      },
      "outputs": [],
      "source": [
        "add_record_test(y_pred_test, 'Decision_Tree_test')"
      ]
    },
    {
      "cell_type": "code",
      "execution_count": 88,
      "metadata": {
        "colab": {
          "base_uri": "https://localhost:8080/",
          "height": 173
        },
        "id": "agXdIb2FuZn4",
        "outputId": "50bfe0c1-ea41-4324-933a-7519612dea0f"
      },
      "outputs": [
        {
          "data": {
            "text/html": [
              "<div>\n",
              "<style scoped>\n",
              "    .dataframe tbody tr th:only-of-type {\n",
              "        vertical-align: middle;\n",
              "    }\n",
              "\n",
              "    .dataframe tbody tr th {\n",
              "        vertical-align: top;\n",
              "    }\n",
              "\n",
              "    .dataframe thead th {\n",
              "        text-align: right;\n",
              "    }\n",
              "</style>\n",
              "<table border=\"1\" class=\"dataframe\">\n",
              "  <thead>\n",
              "    <tr style=\"text-align: right;\">\n",
              "      <th></th>\n",
              "      <th>Logistic_Regression_val</th>\n",
              "      <th>Decision_Tree_val</th>\n",
              "      <th>Random_Forest_val</th>\n",
              "      <th>Logistic_Regression_test</th>\n",
              "      <th>Decision_Tree_test</th>\n",
              "      <th>Random_Forest_test</th>\n",
              "    </tr>\n",
              "  </thead>\n",
              "  <tbody>\n",
              "    <tr>\n",
              "      <th>Accurecy</th>\n",
              "      <td>0.888604</td>\n",
              "      <td>0.920286</td>\n",
              "      <td>0.0</td>\n",
              "      <td>0.891874</td>\n",
              "      <td>0.924575</td>\n",
              "      <td>0.0</td>\n",
              "    </tr>\n",
              "    <tr>\n",
              "      <th>Precision</th>\n",
              "      <td>0.781086</td>\n",
              "      <td>0.868964</td>\n",
              "      <td>0.0</td>\n",
              "      <td>0.798067</td>\n",
              "      <td>0.894199</td>\n",
              "      <td>0.0</td>\n",
              "    </tr>\n",
              "    <tr>\n",
              "      <th>Recall</th>\n",
              "      <td>0.699279</td>\n",
              "      <td>0.759015</td>\n",
              "      <td>0.0</td>\n",
              "      <td>0.702180</td>\n",
              "      <td>0.758002</td>\n",
              "      <td>0.0</td>\n",
              "    </tr>\n",
              "    <tr>\n",
              "      <th>ROC_AUC</th>\n",
              "      <td>0.927158</td>\n",
              "      <td>0.966354</td>\n",
              "      <td>0.0</td>\n",
              "      <td>0.928902</td>\n",
              "      <td>0.969868</td>\n",
              "      <td>0.0</td>\n",
              "    </tr>\n",
              "  </tbody>\n",
              "</table>\n",
              "</div>"
            ],
            "text/plain": [
              "           Logistic_Regression_val  ...  Random_Forest_test\n",
              "Accurecy                  0.888604  ...                 0.0\n",
              "Precision                 0.781086  ...                 0.0\n",
              "Recall                    0.699279  ...                 0.0\n",
              "ROC_AUC                   0.927158  ...                 0.0\n",
              "\n",
              "[4 rows x 6 columns]"
            ]
          },
          "execution_count": 88,
          "metadata": {},
          "output_type": "execute_result"
        }
      ],
      "source": [
        "evaluation_metrics"
      ]
    },
    {
      "cell_type": "markdown",
      "metadata": {
        "id": "oUQyUzjyxF8D"
      },
      "source": [
        "## 6.5 Random Forest Model"
      ]
    },
    {
      "cell_type": "markdown",
      "metadata": {
        "id": "AWNB_LYTxLr_"
      },
      "source": [
        "### 6.5.1 Training and Validating the Model"
      ]
    },
    {
      "cell_type": "code",
      "execution_count": 102,
      "metadata": {
        "colab": {
          "base_uri": "https://localhost:8080/"
        },
        "id": "pIBanNrnuutS",
        "outputId": "d978a26c-39b8-4780-8fdc-24b651b2b6e8"
      },
      "outputs": [
        {
          "data": {
            "text/plain": [
              "RandomForestClassifier(bootstrap=True, ccp_alpha=0.0, class_weight=None,\n",
              "                       criterion='gini', max_depth=None, max_features='auto',\n",
              "                       max_leaf_nodes=None, max_samples=None,\n",
              "                       min_impurity_decrease=0.0, min_impurity_split=None,\n",
              "                       min_samples_leaf=1, min_samples_split=2,\n",
              "                       min_weight_fraction_leaf=0.0, n_estimators=50,\n",
              "                       n_jobs=None, oob_score=False, random_state=11, verbose=0,\n",
              "                       warm_start=False)"
            ]
          },
          "execution_count": 102,
          "metadata": {},
          "output_type": "execute_result"
        }
      ],
      "source": [
        "rf_model = RandomForestClassifier(n_estimators=50, random_state=11)\n",
        "rf_model.fit(X_train, y_train)"
      ]
    },
    {
      "cell_type": "code",
      "execution_count": 103,
      "metadata": {
        "colab": {
          "base_uri": "https://localhost:8080/"
        },
        "id": "NxJ3WlmTyLYz",
        "outputId": "2ebd878c-f97d-48e5-b4be-96d3a6049216"
      },
      "outputs": [
        {
          "data": {
            "text/plain": [
              "array([1.  , 0.06, 0.64, ..., 0.98, 1.  , 0.  ])"
            ]
          },
          "execution_count": 103,
          "metadata": {},
          "output_type": "execute_result"
        }
      ],
      "source": [
        "y_pred = rf_model.predict_proba(X_val)[:, 1]\n",
        "y_pred"
      ]
    },
    {
      "cell_type": "code",
      "execution_count": 104,
      "metadata": {
        "colab": {
          "base_uri": "https://localhost:8080/"
        },
        "id": "-zNx_SS9yUqU",
        "outputId": "a3c82a34-08ad-4f53-f4f2-488acb687e39"
      },
      "outputs": [
        {
          "data": {
            "text/plain": [
              "0.9726923320695409"
            ]
          },
          "execution_count": 104,
          "metadata": {},
          "output_type": "execute_result"
        }
      ],
      "source": [
        "roc_auc_score(y_val, y_pred)"
      ]
    },
    {
      "cell_type": "markdown",
      "metadata": {
        "id": "tMHU0k5by_Us"
      },
      "source": [
        "### 6.5.2 Parameters Tunning"
      ]
    },
    {
      "cell_type": "code",
      "execution_count": 105,
      "metadata": {
        "id": "DmCN97GKyfJ_"
      },
      "outputs": [],
      "source": [
        "scores = []\n",
        "\n",
        "for n in range(10, 201, 10):\n",
        "    rf_model = RandomForestClassifier(n_estimators=n, random_state=11)\n",
        "    rf_model.fit(X_train, y_train)\n",
        "\n",
        "    y_pred = rf_model.predict_proba(X_val)[:, 1]\n",
        "    auc = roc_auc_score(y_val, y_pred)\n",
        "    \n",
        "    scores.append((n, auc))"
      ]
    },
    {
      "cell_type": "code",
      "execution_count": 106,
      "metadata": {
        "id": "5LvGCSPUzOGU"
      },
      "outputs": [],
      "source": [
        "df_scores = pd.DataFrame(scores, columns=['n_estimators', 'auc'])"
      ]
    },
    {
      "cell_type": "code",
      "execution_count": 107,
      "metadata": {
        "colab": {
          "base_uri": "https://localhost:8080/",
          "height": 282
        },
        "id": "zNzvQfMxzRZ1",
        "outputId": "81de4c91-0f5e-45d3-f078-1c0f030e81fc"
      },
      "outputs": [
        {
          "data": {
            "text/plain": [
              "[<matplotlib.lines.Line2D at 0x7f717cb65610>]"
            ]
          },
          "execution_count": 107,
          "metadata": {},
          "output_type": "execute_result"
        },
        {
          "data": {
            "image/png": "[encoded data removed]",
            "text/plain": [
              "<Figure size 432x288 with 1 Axes>"
            ]
          },
          "metadata": {
            "needs_background": "light"
          },
          "output_type": "display_data"
        }
      ],
      "source": [
        "plt.plot(df_scores.n_estimators, df_scores.auc)"
      ]
    },
    {
      "cell_type": "code",
      "execution_count": 108,
      "metadata": {
        "id": "BHh95QQu0la5"
      },
      "outputs": [],
      "source": [
        "scores = []\n",
        "\n",
        "for d in [5, 10, 15]:\n",
        "    for n in range(10, 201, 10):\n",
        "        rf_model = RandomForestClassifier(n_estimators=n,\n",
        "                                    max_depth=d,\n",
        "                                    random_state=11)\n",
        "        rf_model.fit(X_train, y_train)\n",
        "\n",
        "        y_pred = rf_model.predict_proba(X_val)[:, 1]\n",
        "        auc = roc_auc_score(y_val, y_pred)\n",
        "\n",
        "        scores.append((d, n, auc))"
      ]
    },
    {
      "cell_type": "code",
      "execution_count": 114,
      "metadata": {
        "colab": {
          "base_uri": "https://localhost:8080/",
          "height": 1000
        },
        "id": "XWhmIs2E1Nnt",
        "outputId": "d7d6eb85-53a5-4f54-c284-1ca6d686b9dc"
      },
      "outputs": [
        {
          "data": {
            "text/html": [
              "<div>\n",
              "<style scoped>\n",
              "    .dataframe tbody tr th:only-of-type {\n",
              "        vertical-align: middle;\n",
              "    }\n",
              "\n",
              "    .dataframe tbody tr th {\n",
              "        vertical-align: top;\n",
              "    }\n",
              "\n",
              "    .dataframe thead th {\n",
              "        text-align: right;\n",
              "    }\n",
              "</style>\n",
              "<table border=\"1\" class=\"dataframe\">\n",
              "  <thead>\n",
              "    <tr style=\"text-align: right;\">\n",
              "      <th></th>\n",
              "      <th>max_depth</th>\n",
              "      <th>n_estimators</th>\n",
              "      <th>auc</th>\n",
              "    </tr>\n",
              "  </thead>\n",
              "  <tbody>\n",
              "    <tr>\n",
              "      <th>0</th>\n",
              "      <td>5</td>\n",
              "      <td>10</td>\n",
              "      <td>0.947695</td>\n",
              "    </tr>\n",
              "    <tr>\n",
              "      <th>1</th>\n",
              "      <td>5</td>\n",
              "      <td>20</td>\n",
              "      <td>0.946670</td>\n",
              "    </tr>\n",
              "    <tr>\n",
              "      <th>2</th>\n",
              "      <td>5</td>\n",
              "      <td>30</td>\n",
              "      <td>0.948714</td>\n",
              "    </tr>\n",
              "    <tr>\n",
              "      <th>3</th>\n",
              "      <td>5</td>\n",
              "      <td>40</td>\n",
              "      <td>0.948561</td>\n",
              "    </tr>\n",
              "    <tr>\n",
              "      <th>4</th>\n",
              "      <td>5</td>\n",
              "      <td>50</td>\n",
              "      <td>0.948523</td>\n",
              "    </tr>\n",
              "    <tr>\n",
              "      <th>5</th>\n",
              "      <td>5</td>\n",
              "      <td>60</td>\n",
              "      <td>0.949601</td>\n",
              "    </tr>\n",
              "    <tr>\n",
              "      <th>6</th>\n",
              "      <td>5</td>\n",
              "      <td>70</td>\n",
              "      <td>0.950218</td>\n",
              "    </tr>\n",
              "    <tr>\n",
              "      <th>7</th>\n",
              "      <td>5</td>\n",
              "      <td>80</td>\n",
              "      <td>0.950073</td>\n",
              "    </tr>\n",
              "    <tr>\n",
              "      <th>8</th>\n",
              "      <td>5</td>\n",
              "      <td>90</td>\n",
              "      <td>0.950693</td>\n",
              "    </tr>\n",
              "    <tr>\n",
              "      <th>9</th>\n",
              "      <td>5</td>\n",
              "      <td>100</td>\n",
              "      <td>0.950171</td>\n",
              "    </tr>\n",
              "    <tr>\n",
              "      <th>10</th>\n",
              "      <td>5</td>\n",
              "      <td>110</td>\n",
              "      <td>0.950413</td>\n",
              "    </tr>\n",
              "    <tr>\n",
              "      <th>11</th>\n",
              "      <td>5</td>\n",
              "      <td>120</td>\n",
              "      <td>0.950391</td>\n",
              "    </tr>\n",
              "    <tr>\n",
              "      <th>12</th>\n",
              "      <td>5</td>\n",
              "      <td>130</td>\n",
              "      <td>0.950344</td>\n",
              "    </tr>\n",
              "    <tr>\n",
              "      <th>13</th>\n",
              "      <td>5</td>\n",
              "      <td>140</td>\n",
              "      <td>0.950359</td>\n",
              "    </tr>\n",
              "    <tr>\n",
              "      <th>14</th>\n",
              "      <td>5</td>\n",
              "      <td>150</td>\n",
              "      <td>0.950562</td>\n",
              "    </tr>\n",
              "    <tr>\n",
              "      <th>15</th>\n",
              "      <td>5</td>\n",
              "      <td>160</td>\n",
              "      <td>0.950680</td>\n",
              "    </tr>\n",
              "    <tr>\n",
              "      <th>16</th>\n",
              "      <td>5</td>\n",
              "      <td>170</td>\n",
              "      <td>0.950662</td>\n",
              "    </tr>\n",
              "    <tr>\n",
              "      <th>17</th>\n",
              "      <td>5</td>\n",
              "      <td>180</td>\n",
              "      <td>0.950890</td>\n",
              "    </tr>\n",
              "    <tr>\n",
              "      <th>18</th>\n",
              "      <td>5</td>\n",
              "      <td>190</td>\n",
              "      <td>0.950947</td>\n",
              "    </tr>\n",
              "    <tr>\n",
              "      <th>19</th>\n",
              "      <td>5</td>\n",
              "      <td>200</td>\n",
              "      <td>0.950849</td>\n",
              "    </tr>\n",
              "    <tr>\n",
              "      <th>20</th>\n",
              "      <td>10</td>\n",
              "      <td>10</td>\n",
              "      <td>0.962002</td>\n",
              "    </tr>\n",
              "    <tr>\n",
              "      <th>21</th>\n",
              "      <td>10</td>\n",
              "      <td>20</td>\n",
              "      <td>0.962938</td>\n",
              "    </tr>\n",
              "    <tr>\n",
              "      <th>22</th>\n",
              "      <td>10</td>\n",
              "      <td>30</td>\n",
              "      <td>0.964604</td>\n",
              "    </tr>\n",
              "    <tr>\n",
              "      <th>23</th>\n",
              "      <td>10</td>\n",
              "      <td>40</td>\n",
              "      <td>0.965106</td>\n",
              "    </tr>\n",
              "    <tr>\n",
              "      <th>24</th>\n",
              "      <td>10</td>\n",
              "      <td>50</td>\n",
              "      <td>0.964807</td>\n",
              "    </tr>\n",
              "    <tr>\n",
              "      <th>25</th>\n",
              "      <td>10</td>\n",
              "      <td>60</td>\n",
              "      <td>0.965219</td>\n",
              "    </tr>\n",
              "    <tr>\n",
              "      <th>26</th>\n",
              "      <td>10</td>\n",
              "      <td>70</td>\n",
              "      <td>0.965467</td>\n",
              "    </tr>\n",
              "    <tr>\n",
              "      <th>27</th>\n",
              "      <td>10</td>\n",
              "      <td>80</td>\n",
              "      <td>0.965301</td>\n",
              "    </tr>\n",
              "    <tr>\n",
              "      <th>28</th>\n",
              "      <td>10</td>\n",
              "      <td>90</td>\n",
              "      <td>0.965512</td>\n",
              "    </tr>\n",
              "    <tr>\n",
              "      <th>29</th>\n",
              "      <td>10</td>\n",
              "      <td>100</td>\n",
              "      <td>0.965361</td>\n",
              "    </tr>\n",
              "    <tr>\n",
              "      <th>30</th>\n",
              "      <td>10</td>\n",
              "      <td>110</td>\n",
              "      <td>0.965325</td>\n",
              "    </tr>\n",
              "    <tr>\n",
              "      <th>31</th>\n",
              "      <td>10</td>\n",
              "      <td>120</td>\n",
              "      <td>0.965281</td>\n",
              "    </tr>\n",
              "    <tr>\n",
              "      <th>32</th>\n",
              "      <td>10</td>\n",
              "      <td>130</td>\n",
              "      <td>0.965196</td>\n",
              "    </tr>\n",
              "    <tr>\n",
              "      <th>33</th>\n",
              "      <td>10</td>\n",
              "      <td>140</td>\n",
              "      <td>0.965311</td>\n",
              "    </tr>\n",
              "    <tr>\n",
              "      <th>34</th>\n",
              "      <td>10</td>\n",
              "      <td>150</td>\n",
              "      <td>0.965523</td>\n",
              "    </tr>\n",
              "    <tr>\n",
              "      <th>35</th>\n",
              "      <td>10</td>\n",
              "      <td>160</td>\n",
              "      <td>0.965653</td>\n",
              "    </tr>\n",
              "    <tr>\n",
              "      <th>36</th>\n",
              "      <td>10</td>\n",
              "      <td>170</td>\n",
              "      <td>0.965625</td>\n",
              "    </tr>\n",
              "    <tr>\n",
              "      <th>37</th>\n",
              "      <td>10</td>\n",
              "      <td>180</td>\n",
              "      <td>0.965720</td>\n",
              "    </tr>\n",
              "    <tr>\n",
              "      <th>38</th>\n",
              "      <td>10</td>\n",
              "      <td>190</td>\n",
              "      <td>0.965648</td>\n",
              "    </tr>\n",
              "    <tr>\n",
              "      <th>39</th>\n",
              "      <td>10</td>\n",
              "      <td>200</td>\n",
              "      <td>0.965560</td>\n",
              "    </tr>\n",
              "    <tr>\n",
              "      <th>40</th>\n",
              "      <td>15</td>\n",
              "      <td>10</td>\n",
              "      <td>0.968027</td>\n",
              "    </tr>\n",
              "    <tr>\n",
              "      <th>41</th>\n",
              "      <td>15</td>\n",
              "      <td>20</td>\n",
              "      <td>0.969570</td>\n",
              "    </tr>\n",
              "    <tr>\n",
              "      <th>42</th>\n",
              "      <td>15</td>\n",
              "      <td>30</td>\n",
              "      <td>0.970429</td>\n",
              "    </tr>\n",
              "    <tr>\n",
              "      <th>43</th>\n",
              "      <td>15</td>\n",
              "      <td>40</td>\n",
              "      <td>0.970900</td>\n",
              "    </tr>\n",
              "    <tr>\n",
              "      <th>44</th>\n",
              "      <td>15</td>\n",
              "      <td>50</td>\n",
              "      <td>0.970778</td>\n",
              "    </tr>\n",
              "    <tr>\n",
              "      <th>45</th>\n",
              "      <td>15</td>\n",
              "      <td>60</td>\n",
              "      <td>0.971172</td>\n",
              "    </tr>\n",
              "    <tr>\n",
              "      <th>46</th>\n",
              "      <td>15</td>\n",
              "      <td>70</td>\n",
              "      <td>0.971383</td>\n",
              "    </tr>\n",
              "    <tr>\n",
              "      <th>47</th>\n",
              "      <td>15</td>\n",
              "      <td>80</td>\n",
              "      <td>0.971530</td>\n",
              "    </tr>\n",
              "    <tr>\n",
              "      <th>48</th>\n",
              "      <td>15</td>\n",
              "      <td>90</td>\n",
              "      <td>0.971684</td>\n",
              "    </tr>\n",
              "    <tr>\n",
              "      <th>49</th>\n",
              "      <td>15</td>\n",
              "      <td>100</td>\n",
              "      <td>0.971601</td>\n",
              "    </tr>\n",
              "    <tr>\n",
              "      <th>50</th>\n",
              "      <td>15</td>\n",
              "      <td>110</td>\n",
              "      <td>0.971536</td>\n",
              "    </tr>\n",
              "    <tr>\n",
              "      <th>51</th>\n",
              "      <td>15</td>\n",
              "      <td>120</td>\n",
              "      <td>0.971626</td>\n",
              "    </tr>\n",
              "    <tr>\n",
              "      <th>52</th>\n",
              "      <td>15</td>\n",
              "      <td>130</td>\n",
              "      <td>0.971647</td>\n",
              "    </tr>\n",
              "    <tr>\n",
              "      <th>53</th>\n",
              "      <td>15</td>\n",
              "      <td>140</td>\n",
              "      <td>0.971721</td>\n",
              "    </tr>\n",
              "    <tr>\n",
              "      <th>54</th>\n",
              "      <td>15</td>\n",
              "      <td>150</td>\n",
              "      <td>0.971780</td>\n",
              "    </tr>\n",
              "    <tr>\n",
              "      <th>55</th>\n",
              "      <td>15</td>\n",
              "      <td>160</td>\n",
              "      <td>0.971863</td>\n",
              "    </tr>\n",
              "    <tr>\n",
              "      <th>56</th>\n",
              "      <td>15</td>\n",
              "      <td>170</td>\n",
              "      <td>0.971899</td>\n",
              "    </tr>\n",
              "    <tr>\n",
              "      <th>57</th>\n",
              "      <td>15</td>\n",
              "      <td>180</td>\n",
              "      <td>0.972040</td>\n",
              "    </tr>\n",
              "    <tr>\n",
              "      <th>58</th>\n",
              "      <td>15</td>\n",
              "      <td>190</td>\n",
              "      <td>0.972070</td>\n",
              "    </tr>\n",
              "    <tr>\n",
              "      <th>59</th>\n",
              "      <td>15</td>\n",
              "      <td>200</td>\n",
              "      <td>0.972092</td>\n",
              "    </tr>\n",
              "  </tbody>\n",
              "</table>\n",
              "</div>"
            ],
            "text/plain": [
              "    max_depth  n_estimators       auc\n",
              "0           5            10  0.947695\n",
              "1           5            20  0.946670\n",
              "2           5            30  0.948714\n",
              "3           5            40  0.948561\n",
              "4           5            50  0.948523\n",
              "5           5            60  0.949601\n",
              "6           5            70  0.950218\n",
              "7           5            80  0.950073\n",
              "8           5            90  0.950693\n",
              "9           5           100  0.950171\n",
              "10          5           110  0.950413\n",
              "11          5           120  0.950391\n",
              "12          5           130  0.950344\n",
              "13          5           140  0.950359\n",
              "14          5           150  0.950562\n",
              "15          5           160  0.950680\n",
              "16          5           170  0.950662\n",
              "17          5           180  0.950890\n",
              "18          5           190  0.950947\n",
              "19          5           200  0.950849\n",
              "20         10            10  0.962002\n",
              "21         10            20  0.962938\n",
              "22         10            30  0.964604\n",
              "23         10            40  0.965106\n",
              "24         10            50  0.964807\n",
              "25         10            60  0.965219\n",
              "26         10            70  0.965467\n",
              "27         10            80  0.965301\n",
              "28         10            90  0.965512\n",
              "29         10           100  0.965361\n",
              "30         10           110  0.965325\n",
              "31         10           120  0.965281\n",
              "32         10           130  0.965196\n",
              "33         10           140  0.965311\n",
              "34         10           150  0.965523\n",
              "35         10           160  0.965653\n",
              "36         10           170  0.965625\n",
              "37         10           180  0.965720\n",
              "38         10           190  0.965648\n",
              "39         10           200  0.965560\n",
              "40         15            10  0.968027\n",
              "41         15            20  0.969570\n",
              "42         15            30  0.970429\n",
              "43         15            40  0.970900\n",
              "44         15            50  0.970778\n",
              "45         15            60  0.971172\n",
              "46         15            70  0.971383\n",
              "47         15            80  0.971530\n",
              "48         15            90  0.971684\n",
              "49         15           100  0.971601\n",
              "50         15           110  0.971536\n",
              "51         15           120  0.971626\n",
              "52         15           130  0.971647\n",
              "53         15           140  0.971721\n",
              "54         15           150  0.971780\n",
              "55         15           160  0.971863\n",
              "56         15           170  0.971899\n",
              "57         15           180  0.972040\n",
              "58         15           190  0.972070\n",
              "59         15           200  0.972092"
            ]
          },
          "execution_count": 114,
          "metadata": {},
          "output_type": "execute_result"
        }
      ],
      "source": [
        "columns = ['max_depth', 'n_estimators', 'auc']\n",
        "df_scores_tunning = pd.DataFrame(scores, columns=columns)\n",
        "df_scores_tunning"
      ]
    },
    {
      "cell_type": "code",
      "execution_count": 116,
      "metadata": {
        "colab": {
          "base_uri": "https://localhost:8080/",
          "height": 282
        },
        "id": "HXVS2wK61RSt",
        "outputId": "7dac9e98-22de-4426-d863-dab075267fee"
      },
      "outputs": [
        {
          "data": {
            "text/plain": [
              "<matplotlib.legend.Legend at 0x7f7179470bd0>"
            ]
          },
          "execution_count": 116,
          "metadata": {},
          "output_type": "execute_result"
        },
        {
          "data": {
            "image/png": "[encoded data removed]",
            "text/plain": [
              "<Figure size 432x288 with 1 Axes>"
            ]
          },
          "metadata": {
            "needs_background": "light"
          },
          "output_type": "display_data"
        }
      ],
      "source": [
        "for d in [5, 10, 15]:\n",
        "    df_subset = df_scores_tunning[df_scores_tunning.max_depth == d]\n",
        "    \n",
        "    plt.plot(df_subset.n_estimators, df_subset.auc,\n",
        "             label='max_depth=%d' % d)\n",
        "\n",
        "plt.legend()"
      ]
    },
    {
      "cell_type": "code",
      "execution_count": 117,
      "metadata": {
        "id": "L4pI1Npr1SBj"
      },
      "outputs": [],
      "source": [
        "scores = []\n",
        "\n",
        "for s in [1, 3, 5, 10, 50]:\n",
        "    for n in range(10, 201, 10):\n",
        "        rf_model = RandomForestClassifier(n_estimators=n,\n",
        "                                    max_depth=15,\n",
        "                                    min_samples_leaf=s,\n",
        "                                    random_state=11)\n",
        "        rf_model.fit(X_train, y_train)\n",
        "\n",
        "        y_pred = rf_model.predict_proba(X_val)[:, 1]\n",
        "        auc = roc_auc_score(y_val, y_pred)\n",
        "\n",
        "        scores.append((s, n, auc))"
      ]
    },
    {
      "cell_type": "code",
      "execution_count": 118,
      "metadata": {
        "id": "yHMptvXs-bXe"
      },
      "outputs": [],
      "source": [
        "columns = ['min_samples_leaf', 'n_estimators', 'auc']\n",
        "df_scores_tunning2 = pd.DataFrame(scores, columns=columns)"
      ]
    },
    {
      "cell_type": "code",
      "execution_count": 119,
      "metadata": {
        "colab": {
          "base_uri": "https://localhost:8080/",
          "height": 282
        },
        "id": "5GhbZp6S-fsA",
        "outputId": "02403cb5-64f9-44a6-a85d-45cf6f7b97f3"
      },
      "outputs": [
        {
          "data": {
            "text/plain": [
              "<matplotlib.legend.Legend at 0x7f717c6f8610>"
            ]
          },
          "execution_count": 119,
          "metadata": {},
          "output_type": "execute_result"
        },
        {
          "data": {
            "image/png": "[encoded data removed]",
            "text/plain": [
              "<Figure size 432x288 with 1 Axes>"
            ]
          },
          "metadata": {
            "needs_background": "light"
          },
          "output_type": "display_data"
        }
      ],
      "source": [
        "colors = ['black', 'blue', 'orange', 'red', 'grey']\n",
        "values = [1, 3, 5, 10, 50]\n",
        "\n",
        "for s, col in zip(values, colors):\n",
        "    df_subset = df_scores_tunning2[df_scores_tunning2.min_samples_leaf == s]\n",
        "    \n",
        "    plt.plot(df_subset.n_estimators, df_subset.auc,\n",
        "             color=col,\n",
        "             label='min_samples_leaf=%d' % s)\n",
        "\n",
        "plt.legend()"
      ]
    },
    {
      "cell_type": "code",
      "execution_count": 131,
      "metadata": {
        "colab": {
          "base_uri": "https://localhost:8080/"
        },
        "id": "aFrCRl9b-0Bl",
        "outputId": "8a3493b8-3cbd-4b61-b204-78088929e359"
      },
      "outputs": [
        {
          "data": {
            "text/plain": [
              "RandomForestClassifier(bootstrap=True, ccp_alpha=0.0, class_weight=None,\n",
              "                       criterion='gini', max_depth=15, max_features='auto',\n",
              "                       max_leaf_nodes=None, max_samples=None,\n",
              "                       min_impurity_decrease=0.0, min_impurity_split=None,\n",
              "                       min_samples_leaf=1, min_samples_split=2,\n",
              "                       min_weight_fraction_leaf=0.0, n_estimators=200,\n",
              "                       n_jobs=None, oob_score=False, random_state=11, verbose=0,\n",
              "                       warm_start=False)"
            ]
          },
          "execution_count": 131,
          "metadata": {},
          "output_type": "execute_result"
        }
      ],
      "source": [
        "rf_model = RandomForestClassifier(n_estimators=200, \n",
        "                                 max_depth=15,\n",
        "                                 min_samples_leaf=1,\n",
        "                                 random_state=11)\n",
        "rf_model.fit(X_train, y_train)"
      ]
    },
    {
      "cell_type": "code",
      "execution_count": 132,
      "metadata": {
        "id": "pwsbP9nDKIYf"
      },
      "outputs": [],
      "source": [
        "y_pred = rf_model.predict_proba(X_val)[:, 1]"
      ]
    },
    {
      "cell_type": "code",
      "execution_count": 133,
      "metadata": {
        "id": "0RCiQxS0KOiy"
      },
      "outputs": [],
      "source": [
        "add_record_val(y_pred, 'Random_Forest_val')"
      ]
    },
    {
      "cell_type": "markdown",
      "metadata": {
        "id": "QVF_HksbKvSW"
      },
      "source": [
        "### 6.5.3 Testing the Model"
      ]
    },
    {
      "cell_type": "code",
      "execution_count": 135,
      "metadata": {
        "colab": {
          "base_uri": "https://localhost:8080/"
        },
        "id": "2LFWqhWGLAzj",
        "outputId": "bdfb330c-5430-4316-985d-d6aac76babe5"
      },
      "outputs": [
        {
          "data": {
            "text/plain": [
              "RandomForestClassifier(bootstrap=True, ccp_alpha=0.0, class_weight=None,\n",
              "                       criterion='gini', max_depth=15, max_features='auto',\n",
              "                       max_leaf_nodes=None, max_samples=None,\n",
              "                       min_impurity_decrease=0.0, min_impurity_split=None,\n",
              "                       min_samples_leaf=1, min_samples_split=2,\n",
              "                       min_weight_fraction_leaf=0.0, n_estimators=200,\n",
              "                       n_jobs=None, oob_score=False, random_state=11, verbose=0,\n",
              "                       warm_start=False)"
            ]
          },
          "execution_count": 135,
          "metadata": {},
          "output_type": "execute_result"
        }
      ],
      "source": [
        "rf_model_test = RandomForestClassifier(n_estimators=200, \n",
        "                                 max_depth=15,\n",
        "                                 min_samples_leaf=1,\n",
        "                                 random_state=11)\n",
        "rf_model_test.fit(X_full_train, y_full_train)"
      ]
    },
    {
      "cell_type": "code",
      "execution_count": 136,
      "metadata": {
        "id": "8fI5PZKCLLdh"
      },
      "outputs": [],
      "source": [
        "y_pred_test = rf_model_test.predict_proba(X_test)[:, 1]"
      ]
    },
    {
      "cell_type": "code",
      "execution_count": 137,
      "metadata": {
        "id": "rwj1fkphLTf_"
      },
      "outputs": [],
      "source": [
        "add_record_test(y_pred_test, 'Random_Forest_test')"
      ]
    },
    {
      "cell_type": "code",
      "execution_count": 138,
      "metadata": {
        "colab": {
          "base_uri": "https://localhost:8080/",
          "height": 173
        },
        "id": "NjTHRkyQKWBz",
        "outputId": "98ad0677-2ae9-450b-9ffa-4c18aef74351"
      },
      "outputs": [
        {
          "data": {
            "text/html": [
              "<div>\n",
              "<style scoped>\n",
              "    .dataframe tbody tr th:only-of-type {\n",
              "        vertical-align: middle;\n",
              "    }\n",
              "\n",
              "    .dataframe tbody tr th {\n",
              "        vertical-align: top;\n",
              "    }\n",
              "\n",
              "    .dataframe thead th {\n",
              "        text-align: right;\n",
              "    }\n",
              "</style>\n",
              "<table border=\"1\" class=\"dataframe\">\n",
              "  <thead>\n",
              "    <tr style=\"text-align: right;\">\n",
              "      <th></th>\n",
              "      <th>Logistic_Regression_val</th>\n",
              "      <th>Decision_Tree_val</th>\n",
              "      <th>Random_Forest_val</th>\n",
              "      <th>Logistic_Regression_test</th>\n",
              "      <th>Decision_Tree_test</th>\n",
              "      <th>Random_Forest_test</th>\n",
              "    </tr>\n",
              "  </thead>\n",
              "  <tbody>\n",
              "    <tr>\n",
              "      <th>Accurecy</th>\n",
              "      <td>0.888604</td>\n",
              "      <td>0.920286</td>\n",
              "      <td>0.930799</td>\n",
              "      <td>0.891874</td>\n",
              "      <td>0.924575</td>\n",
              "      <td>0.931854</td>\n",
              "    </tr>\n",
              "    <tr>\n",
              "      <th>Precision</th>\n",
              "      <td>0.781086</td>\n",
              "      <td>0.868964</td>\n",
              "      <td>0.888889</td>\n",
              "      <td>0.798067</td>\n",
              "      <td>0.894199</td>\n",
              "      <td>0.903295</td>\n",
              "    </tr>\n",
              "    <tr>\n",
              "      <th>Recall</th>\n",
              "      <td>0.699279</td>\n",
              "      <td>0.759015</td>\n",
              "      <td>0.790216</td>\n",
              "      <td>0.702180</td>\n",
              "      <td>0.758002</td>\n",
              "      <td>0.784289</td>\n",
              "    </tr>\n",
              "    <tr>\n",
              "      <th>ROC_AUC</th>\n",
              "      <td>0.927158</td>\n",
              "      <td>0.966354</td>\n",
              "      <td>0.972092</td>\n",
              "      <td>0.928902</td>\n",
              "      <td>0.969868</td>\n",
              "      <td>0.973318</td>\n",
              "    </tr>\n",
              "  </tbody>\n",
              "</table>\n",
              "</div>"
            ],
            "text/plain": [
              "           Logistic_Regression_val  ...  Random_Forest_test\n",
              "Accurecy                  0.888604  ...            0.931854\n",
              "Precision                 0.781086  ...            0.903295\n",
              "Recall                    0.699279  ...            0.784289\n",
              "ROC_AUC                   0.927158  ...            0.973318\n",
              "\n",
              "[4 rows x 6 columns]"
            ]
          },
          "execution_count": 138,
          "metadata": {},
          "output_type": "execute_result"
        }
      ],
      "source": [
        "evaluation_metrics"
      ]
    },
    {
      "cell_type": "markdown",
      "metadata": {
        "id": "8Ih2ARIWLoKe"
      },
      "source": [
        "# 6.6 XGBoosting"
      ]
    },
    {
      "cell_type": "code",
      "execution_count": 163,
      "metadata": {
        "id": "AU-2qdPsKlcO"
      },
      "outputs": [],
      "source": [
        "D_train = xgb.DMatrix(X_train, label=y_train, feature_names=dv.get_feature_names())\n",
        "D_val = xgb.DMatrix(X_val, label=y_val, feature_names=dv.get_feature_names())\n",
        "D_full_train = xgb.DMatrix(X_full_train, label=y_full_train, feature_names=dv2.get_feature_names())\n",
        "D_test = xgb.DMatrix(X_test, label=y_test, feature_names=dv2.get_feature_names())"
      ]
    },
    {
      "cell_type": "code",
      "execution_count": 164,
      "metadata": {
        "id": "2TAr1rJlOGru"
      },
      "outputs": [],
      "source": [
        "xgb_params = {\n",
        "    'eta': 0.3, \n",
        "    'max_depth': 6,\n",
        "    'min_child_weight': 1,\n",
        "    \n",
        "    'objective': 'binary:logistic',\n",
        "    'nthread': 8,\n",
        "    \n",
        "    'seed': 1,\n",
        "    'verbosity': 1,\n",
        "}\n",
        "\n",
        "xgb_model = xgb.train(xgb_params, D_train, num_boost_round=100)"
      ]
    },
    {
      "cell_type": "code",
      "execution_count": 165,
      "metadata": {
        "id": "vl4dfBjUOJyf"
      },
      "outputs": [],
      "source": [
        "y_pred = xgb_model.predict(D_val)"
      ]
    },
    {
      "cell_type": "code",
      "execution_count": 166,
      "metadata": {
        "colab": {
          "base_uri": "https://localhost:8080/"
        },
        "id": "PjOKOLwKOY3Y",
        "outputId": "66eb79b4-5893-48a7-9597-1d5207b4b6f0"
      },
      "outputs": [
        {
          "data": {
            "text/plain": [
              "0.980342646957297"
            ]
          },
          "execution_count": 166,
          "metadata": {},
          "output_type": "execute_result"
        }
      ],
      "source": [
        "roc_auc_score(y_val, y_pred)"
      ]
    },
    {
      "cell_type": "code",
      "execution_count": 167,
      "metadata": {
        "id": "uiwDRUV3Og_R"
      },
      "outputs": [],
      "source": [
        "xgb_model_test = xgb.train(xgb_params, D_full_train, num_boost_round=100)"
      ]
    },
    {
      "cell_type": "code",
      "execution_count": 169,
      "metadata": {
        "id": "kUIH1y3_RwA9"
      },
      "outputs": [],
      "source": [
        "y_pred_test = xgb_model_test.predict(D_test)"
      ]
    },
    {
      "cell_type": "code",
      "execution_count": 170,
      "metadata": {
        "colab": {
          "base_uri": "https://localhost:8080/"
        },
        "id": "aOsE41eMR5kL",
        "outputId": "52686816-87b0-4456-d992-4e6f98251378"
      },
      "outputs": [
        {
          "data": {
            "text/plain": [
              "0.9823032918936907"
            ]
          },
          "execution_count": 170,
          "metadata": {},
          "output_type": "execute_result"
        }
      ],
      "source": [
        "roc_auc_score(y_test, y_pred_test)"
      ]
    },
    {
      "cell_type": "code",
      "execution_count": 172,
      "metadata": {
        "id": "iJF0_UPCSBY5"
      },
      "outputs": [],
      "source": [
        "add_record_val(y_pred, 'XGBoosting_val')\n",
        "add_record_test(y_pred_test, 'XGBoosting_test')"
      ]
    },
    {
      "cell_type": "code",
      "execution_count": 182,
      "metadata": {
        "id": "jH2cdA2cSnqv"
      },
      "outputs": [],
      "source": [
        "evaluation_metrics = evaluation_metrics[['Logistic_Regression_val',\n",
        " 'Decision_Tree_val',\n",
        " 'Random_Forest_val',\n",
        " 'XGBoosting_val',\n",
        " 'Logistic_Regression_test',\n",
        " 'Decision_Tree_test',\n",
        " 'Random_Forest_test',\n",
        " 'XGBoosting_test']]\n"
      ]
    },
    {
      "cell_type": "code",
      "execution_count": 183,
      "metadata": {
        "colab": {
          "base_uri": "https://localhost:8080/",
          "height": 193
        },
        "id": "XUhD8qXTSfek",
        "outputId": "104d0e06-a576-4925-ba8f-6c8d25305098"
      },
      "outputs": [
        {
          "data": {
            "text/html": [
              "<div>\n",
              "<style scoped>\n",
              "    .dataframe tbody tr th:only-of-type {\n",
              "        vertical-align: middle;\n",
              "    }\n",
              "\n",
              "    .dataframe tbody tr th {\n",
              "        vertical-align: top;\n",
              "    }\n",
              "\n",
              "    .dataframe thead th {\n",
              "        text-align: right;\n",
              "    }\n",
              "</style>\n",
              "<table border=\"1\" class=\"dataframe\">\n",
              "  <thead>\n",
              "    <tr style=\"text-align: right;\">\n",
              "      <th></th>\n",
              "      <th>Logistic_Regression_val</th>\n",
              "      <th>Decision_Tree_val</th>\n",
              "      <th>Random_Forest_val</th>\n",
              "      <th>XGBoosting_val</th>\n",
              "      <th>Logistic_Regression_test</th>\n",
              "      <th>Decision_Tree_test</th>\n",
              "      <th>Random_Forest_test</th>\n",
              "      <th>XGBoosting_test</th>\n",
              "    </tr>\n",
              "  </thead>\n",
              "  <tbody>\n",
              "    <tr>\n",
              "      <th>Accurecy</th>\n",
              "      <td>0.888604</td>\n",
              "      <td>0.920286</td>\n",
              "      <td>0.930799</td>\n",
              "      <td>0.940750</td>\n",
              "      <td>0.891874</td>\n",
              "      <td>0.924575</td>\n",
              "      <td>0.931854</td>\n",
              "      <td>0.940961</td>\n",
              "    </tr>\n",
              "    <tr>\n",
              "      <th>Precision</th>\n",
              "      <td>0.781086</td>\n",
              "      <td>0.868964</td>\n",
              "      <td>0.888889</td>\n",
              "      <td>0.900085</td>\n",
              "      <td>0.798067</td>\n",
              "      <td>0.894199</td>\n",
              "      <td>0.903295</td>\n",
              "      <td>0.910353</td>\n",
              "    </tr>\n",
              "    <tr>\n",
              "      <th>Recall</th>\n",
              "      <td>0.699279</td>\n",
              "      <td>0.759015</td>\n",
              "      <td>0.790216</td>\n",
              "      <td>0.827689</td>\n",
              "      <td>0.702180</td>\n",
              "      <td>0.758002</td>\n",
              "      <td>0.784289</td>\n",
              "      <td>0.821246</td>\n",
              "    </tr>\n",
              "    <tr>\n",
              "      <th>ROC_AUC</th>\n",
              "      <td>0.927158</td>\n",
              "      <td>0.966354</td>\n",
              "      <td>0.972092</td>\n",
              "      <td>0.980343</td>\n",
              "      <td>0.928902</td>\n",
              "      <td>0.969868</td>\n",
              "      <td>0.973318</td>\n",
              "      <td>0.982303</td>\n",
              "    </tr>\n",
              "  </tbody>\n",
              "</table>\n",
              "</div>"
            ],
            "text/plain": [
              "           Logistic_Regression_val  ...  XGBoosting_test\n",
              "Accurecy                  0.888604  ...         0.940961\n",
              "Precision                 0.781086  ...         0.910353\n",
              "Recall                    0.699279  ...         0.821246\n",
              "ROC_AUC                   0.927158  ...         0.982303\n",
              "\n",
              "[4 rows x 8 columns]"
            ]
          },
          "execution_count": 183,
          "metadata": {},
          "output_type": "execute_result"
        }
      ],
      "source": [
        "evaluation_metrics"
      ]
    },
    {
      "cell_type": "markdown",
      "metadata": {
        "id": "88UMcwwPXfm3"
      },
      "source": [
        "# 7. Model Saving and Loading"
      ]
    },
    {
      "cell_type": "code",
      "execution_count": 213,
      "metadata": {
        "id": "aRUr-fdqT0Pi"
      },
      "outputs": [],
      "source": [
        "model_name = 'xgb_model'\n",
        "model_file = f'model_{model_name}.bin'"
      ]
    },
    {
      "cell_type": "code",
      "execution_count": 214,
      "metadata": {
        "id": "9g6E7myuX_uI"
      },
      "outputs": [],
      "source": [
        "with open(model_file, 'wb') as m_out:\n",
        "  pickle.dump(xgb_model_test, m_out)"
      ]
    },
    {
      "cell_type": "code",
      "execution_count": 215,
      "metadata": {
        "id": "RFhn_H1fYYLX"
      },
      "outputs": [],
      "source": [
        "with open(model_file, 'rb') as m_out:\n",
        "  loaded_model = pickle.load(m_out)"
      ]
    },
    {
      "cell_type": "code",
      "execution_count": 228,
      "metadata": {
        "id": "e9XTq8z4bZRs"
      },
      "outputs": [],
      "source": [
        "dd = xgb.DMatrix(np.array([list(X_train[1000])]), label=[y_train[1000]], feature_names=dv.get_feature_names())"
      ]
    },
    {
      "cell_type": "code",
      "execution_count": 234,
      "metadata": {
        "colab": {
          "base_uri": "https://localhost:8080/"
        },
        "id": "NB0KPnyBbm03",
        "outputId": "6feb1653-96fc-4b15-c89e-a83374061347"
      },
      "outputs": [
        {
          "data": {
            "text/plain": [
              "0.0023542831"
            ]
          },
          "execution_count": 234,
          "metadata": {},
          "output_type": "execute_result"
        }
      ],
      "source": [
        "loaded_model.predict(dd)[0]"
      ]
    },
    {
      "cell_type": "code",
      "execution_count": null,
      "metadata": {
        "id": "qsUClzVUcNUd"
      },
      "outputs": [],
      "source": []
    }
  ],
  "metadata": {
    "accelerator": "GPU",
    "colab": {
      "collapsed_sections": [],
      "name": "Weather prediction.ipynb",
      "provenance": []
    },
    "kernelspec": {
      "display_name": "Python 3",
      "name": "python3"
    },
    "language_info": {
      "name": "python"
    }
  },
  "nbformat": 4,
  "nbformat_minor": 0
}
